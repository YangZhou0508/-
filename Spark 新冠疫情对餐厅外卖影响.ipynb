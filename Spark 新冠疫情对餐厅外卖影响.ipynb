{
 "cells": [
  {
   "cell_type": "code",
   "execution_count": 1,
   "metadata": {
    "application/vnd.databricks.v1+cell": {
     "inputWidgets": {},
     "nuid": "174929b1-c498-41f8-98af-03081e0658e6",
     "showTitle": true,
     "title": "Big Data Tools 2 2021 : Group Project"
    }
   },
   "outputs": [],
   "source": [
    "# Project Goal: Using the available data from yelp, build a prediction model to predict which businesses will start doing delivery/takeout after the first lockdown.\n",
    "\n",
    "# Team Members:\n",
    "#    FANG Anbing\n",
    "#    LAGO Jenie Marie\n",
    "#    YANG Zhou"
   ]
  },
  {
   "cell_type": "code",
   "execution_count": 2,
   "metadata": {
    "application/vnd.databricks.v1+cell": {
     "inputWidgets": {},
     "nuid": "785aa28d-f53d-404d-8aac-3ee4c346ca1d",
     "showTitle": true,
     "title": "Path Setting"
    }
   },
   "outputs": [],
   "source": [
    "# Set all necessary sources here\n",
    "path_covid_features = \"/Users/jenielago/Documents/Class/BDT/BDT2 Group/yelp2/parsed_covid_sample.json\"\n",
    "path_yelp_business = \"/Users/jenielago/Documents/Class/BDT/BDT2 Group/yelp2/parsed_business_sample.json\"\n",
    "path_yelp_checkin = \"/Users/jenielago/Documents/Class/BDT/BDT2 Group/yelp2/parsed_checkin_sample.json\"\n",
    "path_yelp_review = \"/Users/jenielago/Documents/Class/BDT/BDT2 Group/yelp2/parsed_review_sample.json\"\n",
    "path_yelp_tip = \"/Users/jenielago/Documents/Class/BDT/BDT2 Group/yelp2/parsed_tip_sample.json\"\n",
    "path_yelp_user = \"/Users/jenielago/Documents/Class/BDT/BDT2 Group/yelp2/parsed_user_sample.json\""
   ]
  },
  {
   "cell_type": "code",
   "execution_count": 3,
   "metadata": {},
   "outputs": [
    {
     "data": {
      "text/plain": [
       "DataFrame[key: string, value: string]"
      ]
     },
     "execution_count": 3,
     "metadata": {},
     "output_type": "execute_result"
    }
   ],
   "source": [
    "# For using pyspark in local computer with jupyter notebook\n",
    "# Comment if using Databricks\n",
    "from pyspark import SparkContext, SparkConf\n",
    "\n",
    "from pyspark.sql import SQLContext\n",
    "\n",
    "conf = SparkConf().setAppName(\"PySpark App\").setMaster(\"local[2]\")\n",
    "conf.set(\"spark.executor.memory\", \"8g\")\n",
    "conf.set(\"spark.driver.memory\", \"8g\")\n",
    "conf.set(\"spark.cores.max\", \"2\")\n",
    "\n",
    "sc = SparkContext.getOrCreate(conf=conf)\n",
    "spark = SQLContext(sc)\n",
    "spark.sql(\"set spark.sql.shuffle.partitions=2\")"
   ]
  },
  {
   "cell_type": "code",
   "execution_count": 4,
   "metadata": {
    "application/vnd.databricks.v1+cell": {
     "inputWidgets": {},
     "nuid": "dd66cf4d-1e0b-41f8-9e9b-e67ba7bb8df0",
     "showTitle": false,
     "title": ""
    }
   },
   "outputs": [],
   "source": [
    "# Imports\n",
    "from pyspark.sql.functions import count\n",
    "from pyspark.sql.types import StructField, StructType, StringType, BooleanType\n",
    "from pyspark.sql.functions import isnan, when, count, col, lower, when, to_timestamp, array_contains\n",
    "from pyspark.ml.feature import Tokenizer\n",
    "from pyspark.ml.feature import OneHotEncoder, StringIndexer\n",
    "from pyspark.ml import Pipeline"
   ]
  },
  {
   "cell_type": "code",
   "execution_count": 5,
   "metadata": {
    "application/vnd.databricks.v1+cell": {
     "inputWidgets": {},
     "nuid": "18f7f88a-1903-4edf-aba3-e5461b5470e7",
     "showTitle": true,
     "title": "Processing of covid features"
    }
   },
   "outputs": [],
   "source": [
    "# Load the json file\n",
    "df_covid_features = spark.read.format(\"json\")\\\n",
    "  .option(\"inferSchema\",\"true\")\\\n",
    "  .load(path_covid_features)"
   ]
  },
  {
   "cell_type": "code",
   "execution_count": 6,
   "metadata": {
    "application/vnd.databricks.v1+cell": {
     "inputWidgets": {},
     "nuid": "073762c9-9831-4ba4-8c09-b7839b40aea8",
     "showTitle": false,
     "title": ""
    }
   },
   "outputs": [
    {
     "name": "stdout",
     "output_type": "stream",
     "text": [
      "root\n",
      " |-- Call To Action enabled: string (nullable = true)\n",
      " |-- Covid Banner: string (nullable = true)\n",
      " |-- Grubhub enabled: string (nullable = true)\n",
      " |-- Request a Quote Enabled: string (nullable = true)\n",
      " |-- Temporary Closed Until: string (nullable = true)\n",
      " |-- Virtual Services Offered: string (nullable = true)\n",
      " |-- business_id: string (nullable = true)\n",
      " |-- delivery or takeout: string (nullable = true)\n",
      " |-- highlights: string (nullable = true)\n",
      "\n"
     ]
    }
   ],
   "source": [
    "# Reference: https://www.yelp.com/dataset/documentation/main\n",
    "df_covid_features.printSchema()"
   ]
  },
  {
   "cell_type": "code",
   "execution_count": 7,
   "metadata": {
    "application/vnd.databricks.v1+cell": {
     "inputWidgets": {},
     "nuid": "f1e1ca06-1d1f-45b9-a81a-904b41e6e2d8",
     "showTitle": false,
     "title": ""
    }
   },
   "outputs": [
    {
     "name": "stdout",
     "output_type": "stream",
     "text": [
      "(19053, 9)\n"
     ]
    }
   ],
   "source": [
    "# Get shape of dataframe\n",
    "print((df_covid_features.count(), len(df_covid_features.columns)))"
   ]
  },
  {
   "cell_type": "code",
   "execution_count": 8,
   "metadata": {
    "application/vnd.databricks.v1+cell": {
     "inputWidgets": {},
     "nuid": "c98fb605-dd6b-4c1a-89bb-3bebfb8b30ec",
     "showTitle": false,
     "title": ""
    }
   },
   "outputs": [
    {
     "data": {
      "text/plain": [
       "19018"
      ]
     },
     "execution_count": 8,
     "metadata": {},
     "output_type": "execute_result"
    }
   ],
   "source": [
    "# Check the number of unique business IDs\n",
    "df_covid_features.select('business_id').distinct().count()"
   ]
  },
  {
   "cell_type": "code",
   "execution_count": 9,
   "metadata": {
    "application/vnd.databricks.v1+cell": {
     "inputWidgets": {},
     "nuid": "669154e9-7b3b-414d-9294-df34b0a625cb",
     "showTitle": false,
     "title": ""
    }
   },
   "outputs": [
    {
     "data": {
      "text/plain": [
       "19018"
      ]
     },
     "execution_count": 9,
     "metadata": {},
     "output_type": "execute_result"
    }
   ],
   "source": [
    "# Drop duplicates\n",
    "df_covid_features = df_covid_features.dropDuplicates(['business_id'])\n",
    "df_covid_features.select('business_id').distinct().count()"
   ]
  },
  {
   "cell_type": "code",
   "execution_count": 10,
   "metadata": {
    "application/vnd.databricks.v1+cell": {
     "inputWidgets": {},
     "nuid": "378edf6e-1085-4674-8e80-cdf0e42c0518",
     "showTitle": false,
     "title": ""
    }
   },
   "outputs": [
    {
     "name": "stdout",
     "output_type": "stream",
     "text": [
      "+----------------------+------------+---------------+-----------------------+----------------------+------------------------+--------------------+-------------------+----------+\n",
      "|Call To Action enabled|Covid Banner|Grubhub enabled|Request a Quote Enabled|Temporary Closed Until|Virtual Services Offered|         business_id|delivery or takeout|highlights|\n",
      "+----------------------+------------+---------------+-----------------------+----------------------+------------------------+--------------------+-------------------+----------+\n",
      "|                  TRUE|       FALSE|          FALSE|                  FALSE|                 FALSE|                   FALSE|-0LPtgJC31FWMrMv3...|              FALSE|     FALSE|\n",
      "|                 FALSE|       FALSE|          FALSE|                  FALSE|                 FALSE|                   FALSE|-1MVd6ljY2JT6gCKn...|              FALSE|     FALSE|\n",
      "|                 FALSE|       FALSE|          FALSE|                  FALSE|                 FALSE|                   FALSE|-2AQs-KdwG5QCwGBS...|              FALSE|     FALSE|\n",
      "+----------------------+------------+---------------+-----------------------+----------------------+------------------------+--------------------+-------------------+----------+\n",
      "only showing top 3 rows\n",
      "\n"
     ]
    }
   ],
   "source": [
    "df_covid_features.show(3)"
   ]
  },
  {
   "cell_type": "code",
   "execution_count": 11,
   "metadata": {
    "application/vnd.databricks.v1+cell": {
     "inputWidgets": {},
     "nuid": "890504d5-a7a7-4166-9849-4580daec3f6d",
     "showTitle": false,
     "title": ""
    }
   },
   "outputs": [
    {
     "name": "stdout",
     "output_type": "stream",
     "text": [
      "+----------------------+------------+---------------+-----------------------+----------------------+------------------------+-----------+-------------------+----------+\n",
      "|Call To Action enabled|Covid Banner|Grubhub enabled|Request a Quote Enabled|Temporary Closed Until|Virtual Services Offered|business_id|delivery or takeout|highlights|\n",
      "+----------------------+------------+---------------+-----------------------+----------------------+------------------------+-----------+-------------------+----------+\n",
      "|                     0|           0|              0|                      0|                     0|                       0|          0|                  0|         0|\n",
      "+----------------------+------------+---------------+-----------------------+----------------------+------------------------+-----------+-------------------+----------+\n",
      "\n"
     ]
    }
   ],
   "source": [
    "# Count the number of nulls per column\n",
    "df_covid_features.select([count(when(col(c).isNull(), c)).alias(c) for c in df_covid_features.columns]).show()"
   ]
  },
  {
   "cell_type": "code",
   "execution_count": 12,
   "metadata": {
    "application/vnd.databricks.v1+cell": {
     "inputWidgets": {},
     "nuid": "1723d3a9-ffa9-41df-bea9-e4f90f0ef155",
     "showTitle": false,
     "title": ""
    }
   },
   "outputs": [],
   "source": [
    "# Rename all the columns, remove spaces for easier calling in the next steps\n",
    "df_covid_features = df_covid_features.select([col(c).alias(c.replace(' ', '_')) for c in df_covid_features.columns])"
   ]
  },
  {
   "cell_type": "code",
   "execution_count": 13,
   "metadata": {
    "application/vnd.databricks.v1+cell": {
     "inputWidgets": {},
     "nuid": "f060ebe8-62fb-4b64-aa19-65f7ed695a21",
     "showTitle": false,
     "title": ""
    }
   },
   "outputs": [],
   "source": [
    "# Reload View\n",
    "df_covid_features.createOrReplaceTempView(\"df_covid_features\")"
   ]
  },
  {
   "cell_type": "code",
   "execution_count": 14,
   "metadata": {
    "application/vnd.databricks.v1+cell": {
     "inputWidgets": {},
     "nuid": "c93b49f5-0805-4cff-9f13-4c34f2541849",
     "showTitle": false,
     "title": ""
    }
   },
   "outputs": [
    {
     "name": "stdout",
     "output_type": "stream",
     "text": [
      "+--------------------+\n",
      "|        Covid_Banner|\n",
      "+--------------------+\n",
      "|               FALSE|\n",
      "|We are open for a...|\n",
      "|As a preventative...|\n",
      "|April 29th, 2020 ...|\n",
      "|Our team is avail...|\n",
      "+--------------------+\n",
      "only showing top 5 rows\n",
      "\n"
     ]
    }
   ],
   "source": [
    "# Inspect columns that do not look boolean\n",
    "spark.sql(\"\"\"\n",
    "  select distinct Covid_Banner\n",
    "          from df_covid_features\n",
    "\"\"\").show(5)"
   ]
  },
  {
   "cell_type": "code",
   "execution_count": 15,
   "metadata": {
    "application/vnd.databricks.v1+cell": {
     "inputWidgets": {},
     "nuid": "9e13692c-831d-4741-90de-7cc262894d1c",
     "showTitle": false,
     "title": ""
    }
   },
   "outputs": [
    {
     "name": "stdout",
     "output_type": "stream",
     "text": [
      "+------------------------+\n",
      "|Temporary_Closed_Until  |\n",
      "+------------------------+\n",
      "|FALSE                   |\n",
      "|2020-08-01T00:00:00.000Z|\n",
      "|2020-06-15T00:00:00.000Z|\n",
      "|2020-10-01T00:00:00.000Z|\n",
      "|2020-11-01T00:00:00.000Z|\n",
      "+------------------------+\n",
      "only showing top 5 rows\n",
      "\n"
     ]
    }
   ],
   "source": [
    "spark.sql(\"\"\"\n",
    "  select distinct Temporary_Closed_Until\n",
    "          from df_covid_features\n",
    "\"\"\").show(5, truncate = False)"
   ]
  },
  {
   "cell_type": "code",
   "execution_count": 16,
   "metadata": {
    "application/vnd.databricks.v1+cell": {
     "inputWidgets": {},
     "nuid": "aaf3a497-28a3-4d87-89e1-70b4a2e23000",
     "showTitle": false,
     "title": ""
    }
   },
   "outputs": [
    {
     "name": "stdout",
     "output_type": "stream",
     "text": [
      "+-------------------------------+\n",
      "|Virtual_Services_Offered       |\n",
      "+-------------------------------+\n",
      "|FALSE                          |\n",
      "|offers_virtual_classes         |\n",
      "|offers_virtual_tours           |\n",
      "|offers_virtual_consultations   |\n",
      "|offers_virtual_performances    |\n",
      "|offers_virtual_tasting_sessions|\n",
      "|offers_virtual_experiences     |\n",
      "+-------------------------------+\n",
      "\n"
     ]
    }
   ],
   "source": [
    "spark.sql(\"\"\"\n",
    "  select distinct Virtual_Services_Offered\n",
    "          from df_covid_features\n",
    "\"\"\").show(15, truncate = False)"
   ]
  },
  {
   "cell_type": "code",
   "execution_count": 17,
   "metadata": {
    "application/vnd.databricks.v1+cell": {
     "inputWidgets": {},
     "nuid": "63c17610-76c3-4f6a-b7de-5ee569dc74a4",
     "showTitle": false,
     "title": ""
    }
   },
   "outputs": [
    {
     "name": "stdout",
     "output_type": "stream",
     "text": [
      "+---------------------------------------------------------------------------------------------------------------------------------------------------------------------------------------------------------------------------------------------------------------------------------------+\n",
      "|highlights                                                                                                                                                                                                                                                                             |\n",
      "+---------------------------------------------------------------------------------------------------------------------------------------------------------------------------------------------------------------------------------------------------------------------------------------+\n",
      "|FALSE                                                                                                                                                                                                                                                                                  |\n",
      "|[{\"identifier\":\"delivery_during_covid_19\",\"params\":{},\"type\":\"covid\"},{\"identifier\":\"takeout_during_covid_19\",\"params\":{},\"type\":\"covid\"},{\"identifier\":\"gift_cards_during_covid_19\",\"params\":{},\"type\":\"covid\"}]                                                                      |\n",
      "|[{\"identifier\":\"curbside_pickup_during_covid_19\",\"params\":{},\"type\":\"covid\"},{\"identifier\":\"years_in_business\",\"params\":{\"year\":\"57\"},\"type\":\"features\"}]                                                                                                                              |\n",
      "|[{\"identifier\":\"delivery_during_covid_19\",\"params\":{},\"type\":\"covid\"},{\"identifier\":\"discounts_available\",\"params\":{},\"type\":\"pricing\"}]                                                                                                                                               |\n",
      "|[{\"identifier\":\"takeout_during_covid_19\",\"params\":{},\"type\":\"covid\"},{\"identifier\":\"delivery_during_covid_19\",\"params\":{},\"type\":\"covid\"},{\"identifier\":\"gift_cards_during_covid_19\",\"params\":{},\"type\":\"covid\"},{\"identifier\":\"locally_owned_operated\",\"params\":{},\"type\":\"features\"}]|\n",
      "+---------------------------------------------------------------------------------------------------------------------------------------------------------------------------------------------------------------------------------------------------------------------------------------+\n",
      "only showing top 5 rows\n",
      "\n"
     ]
    }
   ],
   "source": [
    "spark.sql(\"\"\"\n",
    "  select distinct highlights\n",
    "          from df_covid_features\n",
    "\"\"\").show(5, truncate = False)"
   ]
  },
  {
   "cell_type": "code",
   "execution_count": 18,
   "metadata": {
    "application/vnd.databricks.v1+cell": {
     "inputWidgets": {},
     "nuid": "4ea74576-52cc-4402-a15e-e1856eff9c75",
     "showTitle": false,
     "title": ""
    }
   },
   "outputs": [
    {
     "name": "stdout",
     "output_type": "stream",
     "text": [
      "+----------------------+------------+---------------+-----------------------+----------------------+------------------------+--------------------+-------------------+----------+\n",
      "|Call_To_Action_enabled|Covid_Banner|Grubhub_enabled|Request_a_Quote_Enabled|Temporary_Closed_Until|Virtual_Services_Offered|         business_id|delivery_or_takeout|highlights|\n",
      "+----------------------+------------+---------------+-----------------------+----------------------+------------------------+--------------------+-------------------+----------+\n",
      "|                  true|       FALSE|          false|                  false|                 FALSE|                   FALSE|-0LPtgJC31FWMrMv3...|              false|     FALSE|\n",
      "|                 false|       FALSE|          false|                  false|                 FALSE|                   FALSE|-1MVd6ljY2JT6gCKn...|              false|     FALSE|\n",
      "|                 false|       FALSE|          false|                  false|                 FALSE|                   FALSE|-2AQs-KdwG5QCwGBS...|              false|     FALSE|\n",
      "|                 false|       FALSE|          false|                  false|                 FALSE|                   FALSE|-2R--HQiUyvN4qld5...|               true|     FALSE|\n",
      "|                 false|       FALSE|          false|                  false|                 FALSE|                   FALSE|-2ToCaDFpTNmmg3QF...|              false|     FALSE|\n",
      "+----------------------+------------+---------------+-----------------------+----------------------+------------------------+--------------------+-------------------+----------+\n",
      "only showing top 5 rows\n",
      "\n"
     ]
    }
   ],
   "source": [
    "# change to lower case the columns identified as boolean\n",
    "df_covid_features = df_covid_features.withColumn(\"Call_To_Action_enabled\",lower(col(\"Call_To_Action_enabled\")))\\\n",
    "                      .withColumn(\"Grubhub_enabled\",lower(col(\"Grubhub_enabled\")))\\\n",
    "                      .withColumn(\"Request_a_Quote_Enabled\",lower(col(\"Request_a_Quote_Enabled\")))\\\n",
    "                      .withColumn(\"delivery_or_takeout\",lower(col(\"delivery_or_takeout\")))\n",
    "\n",
    "df_covid_features.show(5)"
   ]
  },
  {
   "cell_type": "code",
   "execution_count": 19,
   "metadata": {
    "application/vnd.databricks.v1+cell": {
     "inputWidgets": {},
     "nuid": "57bff60a-65d2-41de-9108-01abdcb29358",
     "showTitle": false,
     "title": ""
    }
   },
   "outputs": [],
   "source": [
    "df_covid_features = df_covid_features.withColumn(\"Call_To_Action_enabled\",col(\"Call_To_Action_enabled\").cast(BooleanType()))\\\n",
    "    .withColumn(\"Grubhub_enabled\",col(\"Grubhub_enabled\").cast(BooleanType())) \\\n",
    "    .withColumn(\"Request_a_Quote_Enabled\",col(\"Request_a_Quote_Enabled\").cast(BooleanType())) \\\n",
    "    .withColumn(\"delivery_or_takeout\",col(\"delivery_or_takeout\").cast(BooleanType()))"
   ]
  },
  {
   "cell_type": "code",
   "execution_count": 20,
   "metadata": {
    "application/vnd.databricks.v1+cell": {
     "inputWidgets": {},
     "nuid": "c0e7cef1-909f-48f5-a713-fdfc914baa79",
     "showTitle": false,
     "title": ""
    }
   },
   "outputs": [
    {
     "name": "stdout",
     "output_type": "stream",
     "text": [
      "+----------------------+------------+---------------+-----------------------+----------------------+------------------------+-----------+-------------------+----------+\n",
      "|Call_To_Action_enabled|Covid_Banner|Grubhub_enabled|Request_a_Quote_Enabled|Temporary_Closed_Until|Virtual_Services_Offered|business_id|delivery_or_takeout|highlights|\n",
      "+----------------------+------------+---------------+-----------------------+----------------------+------------------------+-----------+-------------------+----------+\n",
      "|                     0|           0|              0|                      0|                     0|                       0|          0|                  0|         0|\n",
      "+----------------------+------------+---------------+-----------------------+----------------------+------------------------+-----------+-------------------+----------+\n",
      "\n"
     ]
    }
   ],
   "source": [
    "# Count the number of nulls per column, check if cast of all columns successful\n",
    "df_covid_features.select([count(when(col(c).isNull(), c)).alias(c) for c in df_covid_features.columns]).show()"
   ]
  },
  {
   "cell_type": "code",
   "execution_count": 21,
   "metadata": {
    "application/vnd.databricks.v1+cell": {
     "inputWidgets": {},
     "nuid": "c450daad-9980-4cdd-a1a8-c2726e5f98a7",
     "showTitle": false,
     "title": ""
    }
   },
   "outputs": [],
   "source": [
    "# Create _isWithText for the string columns, it was noticed that some columns have FALSE and string values with them. Create a flag for businesses who actually filled out said columns\n",
    "cols_string = [\"Covid_Banner\", \"Temporary_Closed_Until\", \"Virtual_Services_Offered\", \"highlights\"]\n",
    "\n",
    "for col_name in cols_string:\n",
    "  col_name_new = col_name + \"_withText\"\n",
    "  df_covid_features = df_covid_features.withColumn(col_name_new, when(col(col_name)== 'FALSE', 0).otherwise(1))"
   ]
  },
  {
   "cell_type": "code",
   "execution_count": 22,
   "metadata": {
    "application/vnd.databricks.v1+cell": {
     "inputWidgets": {},
     "nuid": "02a97374-112d-4536-a770-a5e635412404",
     "showTitle": false,
     "title": ""
    }
   },
   "outputs": [
    {
     "name": "stdout",
     "output_type": "stream",
     "text": [
      "+----------------------+--------------------+---------------+-----------------------+----------------------+------------------------+--------------------+-------------------+--------------------+---------------------+-------------------------------+---------------------------------+-------------------+\n",
      "|Call_To_Action_enabled|        Covid_Banner|Grubhub_enabled|Request_a_Quote_Enabled|Temporary_Closed_Until|Virtual_Services_Offered|         business_id|delivery_or_takeout|          highlights|Covid_Banner_withText|Temporary_Closed_Until_withText|Virtual_Services_Offered_withText|highlights_withText|\n",
      "+----------------------+--------------------+---------------+-----------------------+----------------------+------------------------+--------------------+-------------------+--------------------+---------------------+-------------------------------+---------------------------------+-------------------+\n",
      "|                  true|As a preventative...|          false|                  false|  2020-08-01T00:00:...|    offers_virtual_cl...|-eocJ0ugt1rEDZj16...|              false|[{\"identifier\":\"g...|                    1|                              1|                                1|                  1|\n",
      "|                  true|Our team is avail...|          false|                  false|                 FALSE|    offers_virtual_tours|-htftQXo17AVLzeR7...|              false|[{\"identifier\":\"r...|                    1|                              0|                                1|                  1|\n",
      "|                 false|               FALSE|          false|                  false|                 FALSE|    offers_virtual_co...|-roOqXSD88puXRij6...|              false|               FALSE|                    0|                              0|                                1|                  0|\n",
      "|                  true|We want to let yo...|          false|                   true|                 FALSE|    offers_virtual_co...|0BB7LBw96wjPPAGg3...|              false|[{\"identifier\":\"c...|                    1|                              0|                                1|                  1|\n",
      "|                  true|While our office ...|          false|                  false|                 FALSE|    offers_virtual_tours|0TDyyGCwphVI9YyjR...|              false|               FALSE|                    1|                              0|                                1|                  0|\n",
      "+----------------------+--------------------+---------------+-----------------------+----------------------+------------------------+--------------------+-------------------+--------------------+---------------------+-------------------------------+---------------------------------+-------------------+\n",
      "only showing top 5 rows\n",
      "\n"
     ]
    }
   ],
   "source": [
    "# Check values of those columns with actual text\n",
    "df_covid_features.filter(df_covid_features.Virtual_Services_Offered_withText == 1).show(5)"
   ]
  },
  {
   "cell_type": "code",
   "execution_count": 23,
   "metadata": {
    "application/vnd.databricks.v1+cell": {
     "inputWidgets": {},
     "nuid": "cb24734c-700f-4fee-8804-17249101234a",
     "showTitle": false,
     "title": ""
    }
   },
   "outputs": [],
   "source": [
    "# String indexer for Virtual_Services_Offered\n",
    "lblIndxr = StringIndexer().setInputCol(\"Virtual_Services_Offered\").setOutputCol(\"VSOInd\")\n",
    "\n",
    "# Perform OneHotEncoding for the Virtual_Services_Offered column\n",
    "ohee_catv = OneHotEncoder().setInputCol(\"VSOInd\").setOutputCol(\"VSO_dum\")\n",
    "\n",
    "# Pipeline\n",
    "pipe_catv = Pipeline(stages=[lblIndxr, ohee_catv])"
   ]
  },
  {
   "cell_type": "code",
   "execution_count": 24,
   "metadata": {
    "application/vnd.databricks.v1+cell": {
     "inputWidgets": {},
     "nuid": "072b5651-dc42-4cb0-a77e-173ae2aba02d",
     "showTitle": false,
     "title": ""
    }
   },
   "outputs": [
    {
     "name": "stdout",
     "output_type": "stream",
     "text": [
      "+----------------------+------------+---------------+-----------------------+----------------------+------------------------+--------------------+-------------------+----------+---------------------+-------------------------------+---------------------------------+-------------------+-------------+\n",
      "|Call_To_Action_enabled|Covid_Banner|Grubhub_enabled|Request_a_Quote_Enabled|Temporary_Closed_Until|Virtual_Services_Offered|         business_id|delivery_or_takeout|highlights|Covid_Banner_withText|Temporary_Closed_Until_withText|Virtual_Services_Offered_withText|highlights_withText|      VSO_dum|\n",
      "+----------------------+------------+---------------+-----------------------+----------------------+------------------------+--------------------+-------------------+----------+---------------------+-------------------------------+---------------------------------+-------------------+-------------+\n",
      "|                  true|       FALSE|          false|                  false|                 FALSE|                   FALSE|-0LPtgJC31FWMrMv3...|              false|     FALSE|                    0|                              0|                                0|                  0|(6,[0],[1.0])|\n",
      "|                 false|       FALSE|          false|                  false|                 FALSE|                   FALSE|-1MVd6ljY2JT6gCKn...|              false|     FALSE|                    0|                              0|                                0|                  0|(6,[0],[1.0])|\n",
      "|                 false|       FALSE|          false|                  false|                 FALSE|                   FALSE|-2AQs-KdwG5QCwGBS...|              false|     FALSE|                    0|                              0|                                0|                  0|(6,[0],[1.0])|\n",
      "+----------------------+------------+---------------+-----------------------+----------------------+------------------------+--------------------+-------------------+----------+---------------------+-------------------------------+---------------------------------+-------------------+-------------+\n",
      "only showing top 3 rows\n",
      "\n"
     ]
    }
   ],
   "source": [
    "df_covid_features = pipe_catv.fit(df_covid_features).transform(df_covid_features)\n",
    "df_covid_features = df_covid_features.drop(\"VSOInd\")\n",
    "df_covid_features.show(3)"
   ]
  },
  {
   "cell_type": "code",
   "execution_count": 25,
   "metadata": {
    "application/vnd.databricks.v1+cell": {
     "inputWidgets": {},
     "nuid": "722830ff-b432-448e-a335-ad6845800a85",
     "showTitle": false,
     "title": ""
    }
   },
   "outputs": [
    {
     "name": "stdout",
     "output_type": "stream",
     "text": [
      "root\n",
      " |-- Call_To_Action_enabled: boolean (nullable = true)\n",
      " |-- Grubhub_enabled: boolean (nullable = true)\n",
      " |-- Request_a_Quote_Enabled: boolean (nullable = true)\n",
      " |-- business_id: string (nullable = true)\n",
      " |-- delivery_or_takeout: boolean (nullable = true)\n",
      " |-- Covid_Banner_withText: integer (nullable = false)\n",
      " |-- Temporary_Closed_Until_withText: integer (nullable = false)\n",
      " |-- Virtual_Services_Offered_withText: integer (nullable = false)\n",
      " |-- highlights_withText: integer (nullable = false)\n",
      " |-- VSO_dum: vector (nullable = true)\n",
      "\n"
     ]
    }
   ],
   "source": [
    "# Drop some string columns, To-DO: In the future we can analyze the content of the strings\n",
    "drop_cols = cols_string\n",
    "\n",
    "df_covid_features = df_covid_features.drop(*drop_cols)\n",
    "df_covid_features.printSchema()"
   ]
  },
  {
   "cell_type": "code",
   "execution_count": 26,
   "metadata": {
    "application/vnd.databricks.v1+cell": {
     "inputWidgets": {},
     "nuid": "4af6c3ec-03ad-407a-a892-e0cd3327316f",
     "showTitle": false,
     "title": ""
    }
   },
   "outputs": [
    {
     "name": "stdout",
     "output_type": "stream",
     "text": [
      "+-------------------+-----+\n",
      "|delivery_or_takeout|count|\n",
      "+-------------------+-----+\n",
      "|              false|12794|\n",
      "|               true| 6224|\n",
      "+-------------------+-----+\n",
      "\n"
     ]
    }
   ],
   "source": [
    "df_covid_features.groupBy(\"delivery_or_takeout\").count().show()"
   ]
  },
  {
   "cell_type": "code",
   "execution_count": 27,
   "metadata": {
    "application/vnd.databricks.v1+cell": {
     "inputWidgets": {},
     "nuid": "dc4e7b9e-afc7-4a89-a2be-ee16a771670c",
     "showTitle": false,
     "title": ""
    }
   },
   "outputs": [],
   "source": [
    "# Update sql view\n",
    "df_covid_features.createOrReplaceTempView(\"df_covid_features\")"
   ]
  },
  {
   "cell_type": "code",
   "execution_count": 28,
   "metadata": {
    "application/vnd.databricks.v1+cell": {
     "inputWidgets": {},
     "nuid": "cd6bb0ec-dc08-4e08-87af-aae88ea971a0",
     "showTitle": false,
     "title": ""
    }
   },
   "outputs": [
    {
     "name": "stdout",
     "output_type": "stream",
     "text": [
      "+----------------------+---------------+-----------------------+--------------------+-------------------+---------------------+-------------------------------+---------------------------------+-------------------+-------------+\n",
      "|Call_To_Action_enabled|Grubhub_enabled|Request_a_Quote_Enabled|         business_id|delivery_or_takeout|Covid_Banner_withText|Temporary_Closed_Until_withText|Virtual_Services_Offered_withText|highlights_withText|      VSO_dum|\n",
      "+----------------------+---------------+-----------------------+--------------------+-------------------+---------------------+-------------------------------+---------------------------------+-------------------+-------------+\n",
      "|                  true|          false|                  false|-0LPtgJC31FWMrMv3...|              false|                    0|                              0|                                0|                  0|(6,[0],[1.0])|\n",
      "|                 false|          false|                  false|-1MVd6ljY2JT6gCKn...|              false|                    0|                              0|                                0|                  0|(6,[0],[1.0])|\n",
      "|                 false|          false|                  false|-2AQs-KdwG5QCwGBS...|              false|                    0|                              0|                                0|                  0|(6,[0],[1.0])|\n",
      "|                 false|          false|                  false|-2R--HQiUyvN4qld5...|               true|                    0|                              0|                                0|                  0|(6,[0],[1.0])|\n",
      "|                 false|          false|                  false|-2ToCaDFpTNmmg3QF...|              false|                    0|                              0|                                0|                  0|(6,[0],[1.0])|\n",
      "+----------------------+---------------+-----------------------+--------------------+-------------------+---------------------+-------------------------------+---------------------------------+-------------------+-------------+\n",
      "only showing top 5 rows\n",
      "\n"
     ]
    }
   ],
   "source": [
    "df_covid_features.show(5)"
   ]
  },
  {
   "cell_type": "code",
   "execution_count": 29,
   "metadata": {
    "application/vnd.databricks.v1+cell": {
     "inputWidgets": {},
     "nuid": "537ed439-c8f4-471c-a957-4903c2b52aa1",
     "showTitle": false,
     "title": ""
    }
   },
   "outputs": [],
   "source": [
    "df_covid_features = df_covid_features.withColumn(\"label\",col(\"delivery_or_takeout\").cast(\"double\")).drop(\"delivery_or_takeout\")\n",
    "df_covid_features = df_covid_features.withColumn(\"Grubhub_enabled\",col(\"Grubhub_enabled\").cast(\"double\"))\n",
    "df_covid_features = df_covid_features.withColumn(\"Request_a_Quote_Enabled\",col(\"Request_a_Quote_Enabled\").cast(\"double\"))\n",
    "df_covid_features = df_covid_features.withColumn(\"Request_a_Quote_Enabled\",col(\"Request_a_Quote_Enabled\").cast(\"double\"))\n",
    "df_covid_features = df_covid_features.withColumn(\"Call_To_Action_enabled\",col(\"Call_To_Action_enabled\").cast(\"double\"))"
   ]
  },
  {
   "cell_type": "code",
   "execution_count": 30,
   "metadata": {
    "application/vnd.databricks.v1+cell": {
     "inputWidgets": {},
     "nuid": "0107b790-4e42-40ff-8ea6-82c1c5c9412a",
     "showTitle": false,
     "title": ""
    }
   },
   "outputs": [
    {
     "name": "stdout",
     "output_type": "stream",
     "text": [
      "+----------------------+---------------+-----------------------+--------------------+---------------------+-------------------------------+---------------------------------+-------------------+-------------+-----+\n",
      "|Call_To_Action_enabled|Grubhub_enabled|Request_a_Quote_Enabled|         business_id|Covid_Banner_withText|Temporary_Closed_Until_withText|Virtual_Services_Offered_withText|highlights_withText|      VSO_dum|label|\n",
      "+----------------------+---------------+-----------------------+--------------------+---------------------+-------------------------------+---------------------------------+-------------------+-------------+-----+\n",
      "|                   1.0|            0.0|                    0.0|-0LPtgJC31FWMrMv3...|                    0|                              0|                                0|                  0|(6,[0],[1.0])|  0.0|\n",
      "|                   0.0|            0.0|                    0.0|-1MVd6ljY2JT6gCKn...|                    0|                              0|                                0|                  0|(6,[0],[1.0])|  0.0|\n",
      "|                   0.0|            0.0|                    0.0|-2AQs-KdwG5QCwGBS...|                    0|                              0|                                0|                  0|(6,[0],[1.0])|  0.0|\n",
      "|                   0.0|            0.0|                    0.0|-2R--HQiUyvN4qld5...|                    0|                              0|                                0|                  0|(6,[0],[1.0])|  1.0|\n",
      "|                   0.0|            0.0|                    0.0|-2ToCaDFpTNmmg3QF...|                    0|                              0|                                0|                  0|(6,[0],[1.0])|  0.0|\n",
      "+----------------------+---------------+-----------------------+--------------------+---------------------+-------------------------------+---------------------------------+-------------------+-------------+-----+\n",
      "only showing top 5 rows\n",
      "\n"
     ]
    }
   ],
   "source": [
    "df_covid_features.show(5)"
   ]
  },
  {
   "cell_type": "code",
   "execution_count": 31,
   "metadata": {
    "application/vnd.databricks.v1+cell": {
     "inputWidgets": {},
     "nuid": "f02b4896-80eb-4189-96a1-8ede487e45de",
     "showTitle": false,
     "title": ""
    }
   },
   "outputs": [
    {
     "name": "stdout",
     "output_type": "stream",
     "text": [
      "+-----+-----+\n",
      "|label|count|\n",
      "+-----+-----+\n",
      "|  1.0| 6224|\n",
      "|  0.0|12794|\n",
      "+-----+-----+\n",
      "\n"
     ]
    }
   ],
   "source": [
    "df_covid_features.groupBy(\"label\").count().show()"
   ]
  },
  {
   "cell_type": "code",
   "execution_count": 32,
   "metadata": {
    "application/vnd.databricks.v1+cell": {
     "inputWidgets": {},
     "nuid": "a3b24e10-3134-48c2-b185-54d43ae25f15",
     "showTitle": false,
     "title": ""
    }
   },
   "outputs": [],
   "source": [
    "# Save covid features to base table\n",
    "df_final_base = df_covid_features"
   ]
  },
  {
   "cell_type": "code",
   "execution_count": 33,
   "metadata": {
    "application/vnd.databricks.v1+cell": {
     "inputWidgets": {},
     "nuid": "6a88e5b5-b9c5-4cb2-a881-9d976c0dcbd7",
     "showTitle": false,
     "title": ""
    }
   },
   "outputs": [],
   "source": [
    "df_final_base.createOrReplaceTempView(\"df_final_base\")"
   ]
  },
  {
   "cell_type": "code",
   "execution_count": 34,
   "metadata": {
    "application/vnd.databricks.v1+cell": {
     "inputWidgets": {},
     "nuid": "1326b140-5434-437c-b8a2-04d95b702961",
     "showTitle": true,
     "title": "Data Processing for yelp_academic_dataset_business.json"
    }
   },
   "outputs": [],
   "source": [
    "# Load business file\n",
    "df_business = spark.read.format(\"json\")\\\n",
    "  .option(\"inferSchema\", \"true\")\\\n",
    "  .option(\"header\",\"true\")\\\n",
    "  .load(path_yelp_business)"
   ]
  },
  {
   "cell_type": "code",
   "execution_count": 35,
   "metadata": {
    "application/vnd.databricks.v1+cell": {
     "inputWidgets": {},
     "nuid": "996c2a0f-9242-41fb-ba52-f2c09fe1d7e7",
     "showTitle": false,
     "title": ""
    }
   },
   "outputs": [],
   "source": [
    "df_business.createOrReplaceTempView(\"df_business\")"
   ]
  },
  {
   "cell_type": "code",
   "execution_count": 36,
   "metadata": {
    "application/vnd.databricks.v1+cell": {
     "inputWidgets": {},
     "nuid": "72060ae1-97b0-4040-ba7a-a5679914dba3",
     "showTitle": false,
     "title": ""
    }
   },
   "outputs": [],
   "source": [
    "# Check how many of the businesses exist on the covid features\n",
    "df_business_filtered = spark.sql(\"\"\"\n",
    "    SELECT * FROM df_business \n",
    "    WHERE business_id IN (\n",
    "      SELECT business_id from df_covid_features\n",
    "    )\n",
    "\"\"\")"
   ]
  },
  {
   "cell_type": "code",
   "execution_count": 37,
   "metadata": {
    "application/vnd.databricks.v1+cell": {
     "inputWidgets": {},
     "nuid": "ae538900-a727-43fe-bea9-2577df1fc616",
     "showTitle": false,
     "title": ""
    }
   },
   "outputs": [
    {
     "name": "stdout",
     "output_type": "stream",
     "text": [
      "(19018, 58)\n"
     ]
    }
   ],
   "source": [
    "print((df_business_filtered.count(), len(df_business_filtered.columns)))"
   ]
  },
  {
   "cell_type": "code",
   "execution_count": 38,
   "metadata": {
    "application/vnd.databricks.v1+cell": {
     "inputWidgets": {},
     "nuid": "2e3aa6c5-9e2e-4dba-8b71-a3b629785ff6",
     "showTitle": false,
     "title": ""
    }
   },
   "outputs": [],
   "source": [
    "df_business_filtered.createOrReplaceTempView(\"df_business_filtered\")"
   ]
  },
  {
   "cell_type": "code",
   "execution_count": 39,
   "metadata": {},
   "outputs": [
    {
     "data": {
      "text/plain": [
       "['address',\n",
       " 'attributes.AcceptsInsurance',\n",
       " 'attributes.AgesAllowed',\n",
       " 'attributes.Alcohol',\n",
       " 'attributes.Ambience',\n",
       " 'attributes.BYOB',\n",
       " 'attributes.BYOBCorkage',\n",
       " 'attributes.BestNights',\n",
       " 'attributes.BikeParking',\n",
       " 'attributes.BusinessAcceptsBitcoin',\n",
       " 'attributes.BusinessAcceptsCreditCards',\n",
       " 'attributes.BusinessParking',\n",
       " 'attributes.ByAppointmentOnly',\n",
       " 'attributes.Caters',\n",
       " 'attributes.CoatCheck',\n",
       " 'attributes.Corkage',\n",
       " 'attributes.DietaryRestrictions',\n",
       " 'attributes.DogsAllowed',\n",
       " 'attributes.DriveThru',\n",
       " 'attributes.GoodForDancing',\n",
       " 'attributes.GoodForKids',\n",
       " 'attributes.GoodForMeal',\n",
       " 'attributes.HairSpecializesIn',\n",
       " 'attributes.HappyHour',\n",
       " 'attributes.HasTV',\n",
       " 'attributes.Music',\n",
       " 'attributes.NoiseLevel',\n",
       " 'attributes.Open24Hours',\n",
       " 'attributes.OutdoorSeating',\n",
       " 'attributes.RestaurantsAttire',\n",
       " 'attributes.RestaurantsCounterService',\n",
       " 'attributes.RestaurantsDelivery',\n",
       " 'attributes.RestaurantsGoodForGroups',\n",
       " 'attributes.RestaurantsPriceRange2',\n",
       " 'attributes.RestaurantsReservations',\n",
       " 'attributes.RestaurantsTableService',\n",
       " 'attributes.RestaurantsTakeOut',\n",
       " 'attributes.Smoking',\n",
       " 'attributes.WheelchairAccessible',\n",
       " 'attributes.WiFi',\n",
       " 'business_id',\n",
       " 'categories',\n",
       " 'city',\n",
       " 'hours.Friday',\n",
       " 'hours.Monday',\n",
       " 'hours.Saturday',\n",
       " 'hours.Sunday',\n",
       " 'hours.Thursday',\n",
       " 'hours.Tuesday',\n",
       " 'hours.Wednesday',\n",
       " 'is_open',\n",
       " 'latitude',\n",
       " 'longitude',\n",
       " 'name',\n",
       " 'postal_code',\n",
       " 'review_count',\n",
       " 'stars',\n",
       " 'state']"
      ]
     },
     "execution_count": 39,
     "metadata": {},
     "output_type": "execute_result"
    }
   ],
   "source": [
    "df_business_filtered.schema.names"
   ]
  },
  {
   "cell_type": "code",
   "execution_count": 40,
   "metadata": {},
   "outputs": [],
   "source": [
    "# Choose columns from the businesss table\n",
    "df_business_filtered = df_business_filtered.withColumnRenamed(\"attributes.RestaurantsTakeOut\",\"RestaurantsTakeOut\")\n",
    "df_business_filtered = df_business_filtered.withColumnRenamed(\"review_count\",\"biz_review_count\")\n",
    "business_feature=df_business_filtered[[\"business_id\",\"RestaurantsTakeOut\",\"categories\",\"city\",\"state\",\"is_open\",\"biz_review_count\",\"stars\"]]"
   ]
  },
  {
   "cell_type": "code",
   "execution_count": 41,
   "metadata": {},
   "outputs": [
    {
     "name": "stdout",
     "output_type": "stream",
     "text": [
      "+-----------+------------------+----------+----+-----+-------+----------------+-----+\n",
      "|business_id|RestaurantsTakeOut|categories|city|state|is_open|biz_review_count|stars|\n",
      "+-----------+------------------+----------+----+-----+-------+----------------+-----+\n",
      "|          0|             12694|        39|   0|    0|      0|               0|    0|\n",
      "+-----------+------------------+----------+----+-----+-------+----------------+-----+\n",
      "\n"
     ]
    }
   ],
   "source": [
    "business_feature.select([count(when(col(c).isNull(), c)).alias(c) for c in business_feature.columns]).show()"
   ]
  },
  {
   "cell_type": "code",
   "execution_count": 42,
   "metadata": {},
   "outputs": [],
   "source": [
    "business_feature = business_feature.na.fill(value='Missing')"
   ]
  },
  {
   "cell_type": "code",
   "execution_count": 43,
   "metadata": {},
   "outputs": [
    {
     "name": "stdout",
     "output_type": "stream",
     "text": [
      "+-----------+------------------+----------+----+-----+-------+----------------+-----+\n",
      "|business_id|RestaurantsTakeOut|categories|city|state|is_open|biz_review_count|stars|\n",
      "+-----------+------------------+----------+----+-----+-------+----------------+-----+\n",
      "|          0|                 0|         0|   0|    0|      0|               0|    0|\n",
      "+-----------+------------------+----------+----+-----+-------+----------------+-----+\n",
      "\n"
     ]
    }
   ],
   "source": [
    "business_feature.select([count(when(col(c).isNull(), c)).alias(c) for c in business_feature.columns]).show()"
   ]
  },
  {
   "cell_type": "code",
   "execution_count": 44,
   "metadata": {},
   "outputs": [
    {
     "name": "stdout",
     "output_type": "stream",
     "text": [
      "+----------------------+------------------+--------------------------------------------------------------------------------------------------------------+-------------+-----+-------+----------------+-----+\n",
      "|business_id           |RestaurantsTakeOut|categories                                                                                                    |city         |state|is_open|biz_review_count|stars|\n",
      "+----------------------+------------------+--------------------------------------------------------------------------------------------------------------+-------------+-----+-------+----------------+-----+\n",
      "|-00iClV0kYHkvipphtNn7Q|Missing           |Hair Salons, Blow Dry/Out Services, Hair Removal, Beauty & Spas, Day Spas, Hair Extensions, Laser Hair Removal|Etobicoke    |ON   |1      |8               |4.0  |\n",
      "|-0FA-Qdi3SPYIoJz9UQw-A|Missing           |Hair Salons, Beauty & Spas                                                                                    |Markham      |ON   |1      |14              |4.0  |\n",
      "|-0KMvRFwDWdVBeTpT11iHw|True              |Restaurants, Pizza                                                                                            |Richmond Hill|ON   |1      |3               |2.5  |\n",
      "|-0LPtgJC31FWMrMv317p0Q|Missing           |Banks & Credit Unions, Financial Services                                                                     |Akron        |OH   |1      |5               |3.0  |\n",
      "|-0T0jfPnuBRdpNTXpOQZcA|True              |Food, Coffee & Tea, Restaurants, Breakfast & Brunch, Sandwiches                                               |Markham      |ON   |1      |6               |1.5  |\n",
      "+----------------------+------------------+--------------------------------------------------------------------------------------------------------------+-------------+-----+-------+----------------+-----+\n",
      "only showing top 5 rows\n",
      "\n"
     ]
    }
   ],
   "source": [
    "business_feature.show(5, truncate = False)"
   ]
  },
  {
   "cell_type": "code",
   "execution_count": 45,
   "metadata": {},
   "outputs": [
    {
     "name": "stdout",
     "output_type": "stream",
     "text": [
      "+------------------+-----+\n",
      "|RestaurantsTakeOut|count|\n",
      "+------------------+-----+\n",
      "|             False|  599|\n",
      "|              None|   12|\n",
      "|           Missing|12694|\n",
      "|              True| 5713|\n",
      "+------------------+-----+\n",
      "\n"
     ]
    }
   ],
   "source": [
    "business_feature.groupBy(\"RestaurantsTakeOut\").count().show()"
   ]
  },
  {
   "cell_type": "code",
   "execution_count": 46,
   "metadata": {},
   "outputs": [
    {
     "name": "stdout",
     "output_type": "stream",
     "text": [
      "+--------------------+------------------+--------------------+-------------+-----+-------+----------------+-----+----------------------+----------------+--------------+\n",
      "|         business_id|RestaurantsTakeOut|          categories|         city|state|is_open|biz_review_count|stars|RestaurantsTakeOut_dum|        city_dum|     state_dum|\n",
      "+--------------------+------------------+--------------------+-------------+-----+-------+----------------+-----+----------------------+----------------+--------------+\n",
      "|-00iClV0kYHkvipph...|           Missing|Hair Salons, Blow...|    Etobicoke|   ON|      1|               8|  4.0|         (3,[0],[1.0])|(494,[30],[1.0])|(15,[2],[1.0])|\n",
      "|-0FA-Qdi3SPYIoJz9...|           Missing|Hair Salons, Beau...|      Markham|   ON|      1|              14|  4.0|         (3,[0],[1.0])|(494,[18],[1.0])|(15,[2],[1.0])|\n",
      "|-0KMvRFwDWdVBeTpT...|              True|  Restaurants, Pizza|Richmond Hill|   ON|      1|               3|  2.5|         (3,[1],[1.0])|(494,[26],[1.0])|(15,[2],[1.0])|\n",
      "+--------------------+------------------+--------------------+-------------+-----+-------+----------------+-----+----------------------+----------------+--------------+\n",
      "only showing top 3 rows\n",
      "\n",
      "+--------------------+-------+----------------+-----+----------------------+----------------+--------------+\n",
      "|         business_id|is_open|biz_review_count|stars|RestaurantsTakeOut_dum|        city_dum|     state_dum|\n",
      "+--------------------+-------+----------------+-----+----------------------+----------------+--------------+\n",
      "|-00iClV0kYHkvipph...|      1|               8|  4.0|         (3,[0],[1.0])|(494,[30],[1.0])|(15,[2],[1.0])|\n",
      "|-0FA-Qdi3SPYIoJz9...|      1|              14|  4.0|         (3,[0],[1.0])|(494,[18],[1.0])|(15,[2],[1.0])|\n",
      "|-0KMvRFwDWdVBeTpT...|      1|               3|  2.5|         (3,[1],[1.0])|(494,[26],[1.0])|(15,[2],[1.0])|\n",
      "+--------------------+-------+----------------+-----+----------------------+----------------+--------------+\n",
      "only showing top 3 rows\n",
      "\n"
     ]
    }
   ],
   "source": [
    "# #RestaurantsTakeOut, city, state\n",
    "ResIndxr = StringIndexer().setInputCol(\"RestaurantsTakeOut\").setOutputCol(\"RestaurantsTakeOutInd\")\n",
    "cityIndxr = StringIndexer().setInputCol(\"city\").setOutputCol(\"cityInd\")\n",
    "stateIndxr = StringIndexer().setInputCol(\"state\").setOutputCol(\"stateInd\")\n",
    "\n",
    "# #One-hot encoding\n",
    "ohee_catv = OneHotEncoder(inputCols=[\"RestaurantsTakeOutInd\",\"cityInd\",\"stateInd\"],\n",
    "                          outputCols=[\"RestaurantsTakeOut_dum\",\"city_dum\",\"state_dum\"])\n",
    "pipe_catv = Pipeline(stages=[ResIndxr, cityIndxr,stateIndxr,ohee_catv])\n",
    "\n",
    "\n",
    "business_feature = pipe_catv.fit(business_feature).transform(business_feature)\n",
    "business_feature = business_feature.drop(\"RestaurantsTakeOutInd\",\"cityInd\",\"stateInd\")\n",
    "business_feature.show(3)\n",
    "\n",
    "business_feature = business_feature.drop(\"RestaurantsTakeOut\",\"categories\",\"city\",\"state\")\n",
    "business_feature.show(3)"
   ]
  },
  {
   "cell_type": "code",
   "execution_count": 47,
   "metadata": {},
   "outputs": [],
   "source": [
    "# Rename business_id so we can drop later\n",
    "business_feature = business_feature.withColumnRenamed(\"business_id\", \"b_business_id\")"
   ]
  },
  {
   "cell_type": "code",
   "execution_count": 48,
   "metadata": {},
   "outputs": [],
   "source": [
    "business_feature.createOrReplaceTempView(\"business_feature\")"
   ]
  },
  {
   "cell_type": "code",
   "execution_count": 49,
   "metadata": {},
   "outputs": [],
   "source": [
    "df_final_base = spark.sql(\"\"\"\n",
    "    SELECT f.*, b.*\n",
    "    from df_final_base f\n",
    "    LEFT JOIN business_feature b ON f.business_id == b.b_business_id\n",
    "\"\"\")"
   ]
  },
  {
   "cell_type": "code",
   "execution_count": 50,
   "metadata": {},
   "outputs": [],
   "source": [
    "df_final_base = df_final_base.na.fill(value=0)"
   ]
  },
  {
   "cell_type": "code",
   "execution_count": 51,
   "metadata": {},
   "outputs": [],
   "source": [
    "df_final_base = df_final_base.drop('b_business_id')"
   ]
  },
  {
   "cell_type": "code",
   "execution_count": 52,
   "metadata": {},
   "outputs": [],
   "source": [
    "df_final_base.createOrReplaceTempView(\"df_final_base\")"
   ]
  },
  {
   "cell_type": "code",
   "execution_count": 53,
   "metadata": {},
   "outputs": [
    {
     "name": "stdout",
     "output_type": "stream",
     "text": [
      "+----------------------+---------------+-----------------------+--------------------+---------------------+-------------------------------+---------------------------------+-------------------+-------------+-----+-------+----------------+-----+----------------------+----------------+--------------+\n",
      "|Call_To_Action_enabled|Grubhub_enabled|Request_a_Quote_Enabled|         business_id|Covid_Banner_withText|Temporary_Closed_Until_withText|Virtual_Services_Offered_withText|highlights_withText|      VSO_dum|label|is_open|biz_review_count|stars|RestaurantsTakeOut_dum|        city_dum|     state_dum|\n",
      "+----------------------+---------------+-----------------------+--------------------+---------------------+-------------------------------+---------------------------------+-------------------+-------------+-----+-------+----------------+-----+----------------------+----------------+--------------+\n",
      "|                   1.0|            0.0|                    0.0|-0LPtgJC31FWMrMv3...|                    0|                              0|                                0|                  0|(6,[0],[1.0])|  0.0|      1|               5|  3.0|         (3,[0],[1.0])|(494,[41],[1.0])|(15,[3],[1.0])|\n",
      "|                   0.0|            0.0|                    0.0|-1MVd6ljY2JT6gCKn...|                    0|                              0|                                0|                  0|(6,[0],[1.0])|  0.0|      1|              12|  3.0|         (3,[0],[1.0])| (494,[0],[1.0])|(15,[1],[1.0])|\n",
      "|                   0.0|            0.0|                    0.0|-2AQs-KdwG5QCwGBS...|                    0|                              0|                                0|                  0|(6,[0],[1.0])|  0.0|      1|              36|  2.5|         (3,[0],[1.0])| (494,[5],[1.0])|(15,[7],[1.0])|\n",
      "+----------------------+---------------+-----------------------+--------------------+---------------------+-------------------------------+---------------------------------+-------------------+-------------+-----+-------+----------------+-----+----------------------+----------------+--------------+\n",
      "only showing top 3 rows\n",
      "\n"
     ]
    }
   ],
   "source": [
    "df_final_base.show(3)"
   ]
  },
  {
   "cell_type": "code",
   "execution_count": 54,
   "metadata": {},
   "outputs": [],
   "source": [
    "# Load user table\n",
    "df_user = spark.read.format(\"json\")\\\n",
    "  .option(\"inferSchema\", \"true\")\\\n",
    "  .option(\"header\",\"true\")\\\n",
    "  .load(path_yelp_user)"
   ]
  },
  {
   "cell_type": "code",
   "execution_count": 55,
   "metadata": {},
   "outputs": [
    {
     "name": "stdout",
     "output_type": "stream",
     "text": [
      "+-------------+---------------+---------------+----------------+--------------+---------------+---------------+---------------+-----------------+----------------+------------------+-----------------+----+--------------------+----+--------------------+-----+--------+------------+------+--------------------+-------------------+\n",
      "|average_stars|compliment_cool|compliment_cute|compliment_funny|compliment_hot|compliment_list|compliment_more|compliment_note|compliment_photos|compliment_plain|compliment_profile|compliment_writer|cool|               elite|fans|             friends|funny|    name|review_count|useful|             user_id|      yelping_since|\n",
      "+-------------+---------------+---------------+----------------+--------------+---------------+---------------+---------------+-----------------+----------------+------------------+-----------------+----+--------------------+----+--------------------+-----+--------+------------+------+--------------------+-------------------+\n",
      "|         3.57|             22|              0|              22|             3|              1|              2|             11|                0|              15|                 1|               10| 227|                    |  14|oeMvJh94PiGQnx_6G...|  225|  Rafael|         553|   628|ntlvfPzc8eglqvk92...|2007-07-06 03:27:11|\n",
      "|         3.84|             63|              2|              63|            36|              1|              4|             33|                5|              37|                 5|               21| 400|2008,2009,2010,20...|  27|ly7EnE8leJmyqyePV...|  316|Michelle|         564|   790|FOBRPlBHa3WPHFB5q...|2008-04-28 01:29:25|\n",
      "+-------------+---------------+---------------+----------------+--------------+---------------+---------------+---------------+-----------------+----------------+------------------+-----------------+----+--------------------+----+--------------------+-----+--------+------------+------+--------------------+-------------------+\n",
      "only showing top 2 rows\n",
      "\n"
     ]
    }
   ],
   "source": [
    "df_user.show(2)"
   ]
  },
  {
   "cell_type": "code",
   "execution_count": 56,
   "metadata": {},
   "outputs": [
    {
     "data": {
      "text/plain": [
       "['average_stars',\n",
       " 'compliment_cool',\n",
       " 'compliment_cute',\n",
       " 'compliment_funny',\n",
       " 'compliment_hot',\n",
       " 'compliment_list',\n",
       " 'compliment_more',\n",
       " 'compliment_note',\n",
       " 'compliment_photos',\n",
       " 'compliment_plain',\n",
       " 'compliment_profile',\n",
       " 'compliment_writer',\n",
       " 'cool',\n",
       " 'elite',\n",
       " 'fans',\n",
       " 'friends',\n",
       " 'funny',\n",
       " 'name',\n",
       " 'review_count',\n",
       " 'useful',\n",
       " 'user_id',\n",
       " 'yelping_since']"
      ]
     },
     "execution_count": 56,
     "metadata": {},
     "output_type": "execute_result"
    }
   ],
   "source": [
    "# Merge user table with reviews and tips\n",
    "df_user.schema.names"
   ]
  },
  {
   "cell_type": "code",
   "execution_count": 57,
   "metadata": {},
   "outputs": [],
   "source": [
    "df_user.createOrReplaceTempView(\"df_user\")"
   ]
  },
  {
   "cell_type": "code",
   "execution_count": 58,
   "metadata": {
    "application/vnd.databricks.v1+cell": {
     "inputWidgets": {},
     "nuid": "6cebd6cd-6555-45ff-afcf-d4b9cef474b4",
     "showTitle": true,
     "title": "Data Processing for yelp_academic_dataset_checkin.json"
    }
   },
   "outputs": [],
   "source": [
    "# Load checkin file\n",
    "df_checkin = spark.read.format(\"json\")\\\n",
    "  .option(\"inferSchema\", \"true\")\\\n",
    "  .option(\"header\",\"true\")\\\n",
    "  .load(path_yelp_checkin)"
   ]
  },
  {
   "cell_type": "code",
   "execution_count": 59,
   "metadata": {
    "application/vnd.databricks.v1+cell": {
     "inputWidgets": {},
     "nuid": "cdca60c8-e374-400c-a73b-d863b0f31f8f",
     "showTitle": false,
     "title": ""
    }
   },
   "outputs": [
    {
     "name": "stdout",
     "output_type": "stream",
     "text": [
      "root\n",
      " |-- business_id: string (nullable = true)\n",
      " |-- date: string (nullable = true)\n",
      "\n"
     ]
    }
   ],
   "source": [
    "df_checkin.printSchema()"
   ]
  },
  {
   "cell_type": "code",
   "execution_count": 60,
   "metadata": {
    "application/vnd.databricks.v1+cell": {
     "inputWidgets": {},
     "nuid": "996a0ec0-c61b-46ca-bb70-48a3e5b1899f",
     "showTitle": false,
     "title": ""
    }
   },
   "outputs": [
    {
     "name": "stdout",
     "output_type": "stream",
     "text": [
      "+--------------------+--------------------+\n",
      "|         business_id|                date|\n",
      "+--------------------+--------------------+\n",
      "|hihud--QRriCYZw1z...| 2013-03-17 00:41:53|\n",
      "|hihud--QRriCYZw1z...| 2013-03-17 02:41:06|\n",
      "|hihud--QRriCYZw1z...| 2013-03-18 06:26:54|\n",
      "|hihud--QRriCYZw1z...| 2013-03-19 00:13:05|\n",
      "|hihud--QRriCYZw1z...| 2013-03-23 04:27:56|\n",
      "+--------------------+--------------------+\n",
      "only showing top 5 rows\n",
      "\n"
     ]
    }
   ],
   "source": [
    "df_checkin.show(5)"
   ]
  },
  {
   "cell_type": "code",
   "execution_count": 61,
   "metadata": {
    "application/vnd.databricks.v1+cell": {
     "inputWidgets": {},
     "nuid": "737e1b7f-206d-44d9-9f90-4ab0a694d8d3",
     "showTitle": false,
     "title": ""
    }
   },
   "outputs": [],
   "source": [
    "df_checkin.createOrReplaceTempView(\"df_checkin\")"
   ]
  },
  {
   "cell_type": "code",
   "execution_count": 62,
   "metadata": {
    "application/vnd.databricks.v1+cell": {
     "inputWidgets": {},
     "nuid": "ba8bc122-b831-48bc-b736-689b0cd48144",
     "showTitle": false,
     "title": ""
    }
   },
   "outputs": [],
   "source": [
    "# Get only checkins for 2019\n",
    "df_checkin_count_2019 = spark.sql(\"\"\"\n",
    "  SELECT business_id , count(business_id) as checkin_count\n",
    "  FROM df_checkin\n",
    "  where date > '2019-01-01'\n",
    "  group by business_id\n",
    "\"\"\")"
   ]
  },
  {
   "cell_type": "code",
   "execution_count": 63,
   "metadata": {
    "application/vnd.databricks.v1+cell": {
     "inputWidgets": {},
     "nuid": "15a1e521-a612-40f2-9837-20cd65dbd6a5",
     "showTitle": false,
     "title": ""
    }
   },
   "outputs": [],
   "source": [
    "df_checkin_count_2019.createOrReplaceTempView(\"df_checkin_count_2019\")"
   ]
  },
  {
   "cell_type": "code",
   "execution_count": 64,
   "metadata": {
    "application/vnd.databricks.v1+cell": {
     "inputWidgets": {},
     "nuid": "1633bc4c-9c92-4f17-ab53-76b02a81abc7",
     "showTitle": false,
     "title": ""
    }
   },
   "outputs": [],
   "source": [
    "# Get businesses checki, that exist on the covid features table\n",
    "df_checkin_filtered = spark.sql(\"\"\"\n",
    "    SELECT * FROM df_checkin_count_2019 \n",
    "    WHERE business_id IN (\n",
    "      SELECT business_id from df_covid_features\n",
    "    )\n",
    "\"\"\")"
   ]
  },
  {
   "cell_type": "code",
   "execution_count": 65,
   "metadata": {
    "application/vnd.databricks.v1+cell": {
     "inputWidgets": {},
     "nuid": "417405e2-e612-46d0-98c6-b31eef188089",
     "showTitle": false,
     "title": ""
    }
   },
   "outputs": [
    {
     "name": "stdout",
     "output_type": "stream",
     "text": [
      "(306, 2)\n"
     ]
    }
   ],
   "source": [
    "# Get shape of filtered checkin dataframe\n",
    "print((df_checkin_filtered.count(), len(df_checkin_filtered.columns)))"
   ]
  },
  {
   "cell_type": "code",
   "execution_count": 66,
   "metadata": {
    "application/vnd.databricks.v1+cell": {
     "inputWidgets": {},
     "nuid": "34ab1902-e03b-4462-bfaa-c1e17255f823",
     "showTitle": false,
     "title": ""
    }
   },
   "outputs": [
    {
     "name": "stdout",
     "output_type": "stream",
     "text": [
      "+--------------------+-------------+\n",
      "|         business_id|checkin_count|\n",
      "+--------------------+-------------+\n",
      "|vD5q-79aiIxeI_H8n...|            1|\n",
      "|XT3hLiVwtAzc7xysz...|            1|\n",
      "|qxdVMa8OMTGun1rAS...|            1|\n",
      "|DfLeOD6pUGkeNaqlb...|            1|\n",
      "|SPeWc2dyYpSccf_LR...|            1|\n",
      "+--------------------+-------------+\n",
      "only showing top 5 rows\n",
      "\n"
     ]
    }
   ],
   "source": [
    "df_checkin_filtered.show(5)"
   ]
  },
  {
   "cell_type": "code",
   "execution_count": 67,
   "metadata": {
    "application/vnd.databricks.v1+cell": {
     "inputWidgets": {},
     "nuid": "bad34c1c-b55d-4193-bd7e-65d9a32563fd",
     "showTitle": false,
     "title": ""
    }
   },
   "outputs": [],
   "source": [
    "df_checkin_filtered.createOrReplaceTempView(\"df_checkin_filtered\")"
   ]
  },
  {
   "cell_type": "code",
   "execution_count": 68,
   "metadata": {
    "application/vnd.databricks.v1+cell": {
     "inputWidgets": {},
     "nuid": "cea9610d-0865-41c8-85ac-4050f976cbf7",
     "showTitle": false,
     "title": ""
    }
   },
   "outputs": [],
   "source": [
    "# Merge checkin with basetable\n",
    "df_final_base = spark.sql(\"\"\"\n",
    "    SELECT f.*, c.checkin_count\n",
    "    from df_final_base f\n",
    "    LEFT JOIN df_checkin_filtered c ON f.business_id == c.business_id\n",
    "\"\"\")"
   ]
  },
  {
   "cell_type": "code",
   "execution_count": 69,
   "metadata": {
    "application/vnd.databricks.v1+cell": {
     "inputWidgets": {},
     "nuid": "405e7ed3-43fa-45d7-a9ac-4f410b63ff8a",
     "showTitle": false,
     "title": ""
    }
   },
   "outputs": [
    {
     "name": "stdout",
     "output_type": "stream",
     "text": [
      "(19018, 17)\n"
     ]
    }
   ],
   "source": [
    "print((df_final_base.count(), len(df_final_base.columns)))"
   ]
  },
  {
   "cell_type": "code",
   "execution_count": 70,
   "metadata": {
    "application/vnd.databricks.v1+cell": {
     "inputWidgets": {},
     "nuid": "8881e264-7082-480b-bbc3-1fd7bda2a691",
     "showTitle": false,
     "title": ""
    }
   },
   "outputs": [
    {
     "name": "stdout",
     "output_type": "stream",
     "text": [
      "+----------------------+---------------+-----------------------+-----------+---------------------+-------------------------------+---------------------------------+-------------------+-------+-----+-------+----------------+-----+----------------------+--------+---------+-------------+\n",
      "|Call_To_Action_enabled|Grubhub_enabled|Request_a_Quote_Enabled|business_id|Covid_Banner_withText|Temporary_Closed_Until_withText|Virtual_Services_Offered_withText|highlights_withText|VSO_dum|label|is_open|biz_review_count|stars|RestaurantsTakeOut_dum|city_dum|state_dum|checkin_count|\n",
      "+----------------------+---------------+-----------------------+-----------+---------------------+-------------------------------+---------------------------------+-------------------+-------+-----+-------+----------------+-----+----------------------+--------+---------+-------------+\n",
      "|                     0|              0|                      0|          0|                    0|                              0|                                0|                  0|      0|    0|      0|               0|    0|                     0|       0|        0|        18712|\n",
      "+----------------------+---------------+-----------------------+-----------+---------------------+-------------------------------+---------------------------------+-------------------+-------+-----+-------+----------------+-----+----------------------+--------+---------+-------------+\n",
      "\n"
     ]
    }
   ],
   "source": [
    "# Count the number of nulls per column\n",
    "df_final_base.select([count(when(col(c).isNull(), c)).alias(c) for c in df_final_base.columns]).show()"
   ]
  },
  {
   "cell_type": "code",
   "execution_count": 71,
   "metadata": {
    "application/vnd.databricks.v1+cell": {
     "inputWidgets": {},
     "nuid": "d61748fc-0085-45b7-aaea-483bb370a6c6",
     "showTitle": false,
     "title": ""
    }
   },
   "outputs": [],
   "source": [
    "df_final_base = df_final_base.na.fill(value=0)"
   ]
  },
  {
   "cell_type": "code",
   "execution_count": 72,
   "metadata": {
    "application/vnd.databricks.v1+cell": {
     "inputWidgets": {},
     "nuid": "b48f7bb7-ca44-4cfb-aa8b-bebcc47297ca",
     "showTitle": false,
     "title": ""
    }
   },
   "outputs": [],
   "source": [
    "df_final_base.createOrReplaceTempView(\"df_final_base\")"
   ]
  },
  {
   "cell_type": "code",
   "execution_count": 73,
   "metadata": {
    "application/vnd.databricks.v1+cell": {
     "inputWidgets": {},
     "nuid": "359a4c3b-5bf0-4c78-b692-04fea1c668b4",
     "showTitle": true,
     "title": "Data Processing for yelp_academic_dataset_review.json"
    }
   },
   "outputs": [],
   "source": [
    "# Load the review file\n",
    "df_review = spark.read.format(\"json\")\\\n",
    "  .option(\"inferSchema\", \"true\")\\\n",
    "  .option(\"header\",\"true\")\\\n",
    "  .load(path_yelp_review)"
   ]
  },
  {
   "cell_type": "code",
   "execution_count": 74,
   "metadata": {
    "application/vnd.databricks.v1+cell": {
     "inputWidgets": {},
     "nuid": "44935d4b-c1f4-4a19-a6e7-a043ba61267a",
     "showTitle": false,
     "title": ""
    }
   },
   "outputs": [
    {
     "name": "stdout",
     "output_type": "stream",
     "text": [
      "root\n",
      " |-- business_id: string (nullable = true)\n",
      " |-- cool: long (nullable = true)\n",
      " |-- date: string (nullable = true)\n",
      " |-- funny: long (nullable = true)\n",
      " |-- review_id: string (nullable = true)\n",
      " |-- stars: long (nullable = true)\n",
      " |-- text: string (nullable = true)\n",
      " |-- useful: long (nullable = true)\n",
      " |-- user_id: string (nullable = true)\n",
      "\n"
     ]
    }
   ],
   "source": [
    "df_review.printSchema()"
   ]
  },
  {
   "cell_type": "code",
   "execution_count": 75,
   "metadata": {
    "application/vnd.databricks.v1+cell": {
     "inputWidgets": {},
     "nuid": "8374d1d6-2ff2-411d-a87b-393b9cd61624",
     "showTitle": false,
     "title": ""
    }
   },
   "outputs": [
    {
     "name": "stdout",
     "output_type": "stream",
     "text": [
      "+--------------------+----+-------------------+-----+--------------------+-----+--------------------+------+--------------------+\n",
      "|         business_id|cool|               date|funny|           review_id|stars|                text|useful|             user_id|\n",
      "+--------------------+----+-------------------+-----+--------------------+-----+--------------------+------+--------------------+\n",
      "|-MhfebM0QIsKt87iD...|   0|2015-04-15 05:21:16|    0|xQY8N_XvtGbearJ5X...|    2|As someone who ha...|     5|OwjRMXRC0KyPrIlcj...|\n",
      "|lbrU8StCq3yDfr-QM...|   0|2013-12-07 03:16:52|    1|UmFMZ8PyXZTY2Qcwz...|    1|I am actually hor...|     1|nIJD_7ZXHq-FX8byP...|\n",
      "|HQl28KMwrEKHqhFrr...|   0|2015-12-05 03:18:11|    0|LG2ZaYiOgpr2DK_90...|    5|I love Deagan's. ...|     1|V34qejxNsCbcgD8C0...|\n",
      "+--------------------+----+-------------------+-----+--------------------+-----+--------------------+------+--------------------+\n",
      "only showing top 3 rows\n",
      "\n"
     ]
    }
   ],
   "source": [
    "df_review.show(3)"
   ]
  },
  {
   "cell_type": "code",
   "execution_count": 76,
   "metadata": {
    "application/vnd.databricks.v1+cell": {
     "inputWidgets": {},
     "nuid": "a13fda1a-739f-4511-a0c6-4b8a3d9e0952",
     "showTitle": false,
     "title": ""
    }
   },
   "outputs": [
    {
     "name": "stdout",
     "output_type": "stream",
     "text": [
      "root\n",
      " |-- business_id: string (nullable = true)\n",
      " |-- cool: long (nullable = true)\n",
      " |-- date: timestamp (nullable = true)\n",
      " |-- funny: long (nullable = true)\n",
      " |-- review_id: string (nullable = true)\n",
      " |-- stars: long (nullable = true)\n",
      " |-- text: string (nullable = true)\n",
      " |-- useful: long (nullable = true)\n",
      " |-- user_id: string (nullable = true)\n",
      "\n"
     ]
    }
   ],
   "source": [
    "# Convert date to actual timestamp\n",
    "df_review = df_review.withColumn(\"date\",to_timestamp(col(\"date\"),\"yyyy-M-d H:mm:ss\"))\n",
    "df_review.printSchema()"
   ]
  },
  {
   "cell_type": "code",
   "execution_count": 77,
   "metadata": {
    "application/vnd.databricks.v1+cell": {
     "inputWidgets": {},
     "nuid": "45d5fff8-3f16-4dff-a00f-a23ceea948af",
     "showTitle": false,
     "title": ""
    }
   },
   "outputs": [
    {
     "name": "stdout",
     "output_type": "stream",
     "text": [
      "+--------------------+----+-------------------+-----+--------------------+-----+--------------------+------+--------------------+\n",
      "|         business_id|cool|               date|funny|           review_id|stars|                text|useful|             user_id|\n",
      "+--------------------+----+-------------------+-----+--------------------+-----+--------------------+------+--------------------+\n",
      "|-MhfebM0QIsKt87iD...|   0|2015-04-15 05:21:16|    0|xQY8N_XvtGbearJ5X...|    2|As someone who ha...|     5|OwjRMXRC0KyPrIlcj...|\n",
      "|lbrU8StCq3yDfr-QM...|   0|2013-12-07 03:16:52|    1|UmFMZ8PyXZTY2Qcwz...|    1|I am actually hor...|     1|nIJD_7ZXHq-FX8byP...|\n",
      "|HQl28KMwrEKHqhFrr...|   0|2015-12-05 03:18:11|    0|LG2ZaYiOgpr2DK_90...|    5|I love Deagan's. ...|     1|V34qejxNsCbcgD8C0...|\n",
      "+--------------------+----+-------------------+-----+--------------------+-----+--------------------+------+--------------------+\n",
      "only showing top 3 rows\n",
      "\n"
     ]
    }
   ],
   "source": [
    "df_review.show(3)"
   ]
  },
  {
   "cell_type": "code",
   "execution_count": 78,
   "metadata": {
    "application/vnd.databricks.v1+cell": {
     "inputWidgets": {},
     "nuid": "9c7befb5-8a8f-402b-993e-97b4ab5146a3",
     "showTitle": false,
     "title": ""
    }
   },
   "outputs": [],
   "source": [
    "df_review.createOrReplaceTempView(\"df_review\")"
   ]
  },
  {
   "cell_type": "code",
   "execution_count": 79,
   "metadata": {
    "application/vnd.databricks.v1+cell": {
     "inputWidgets": {},
     "nuid": "c825083e-5079-49b6-998f-e0027b740dd8",
     "showTitle": false,
     "title": ""
    }
   },
   "outputs": [
    {
     "name": "stdout",
     "output_type": "stream",
     "text": [
      "+-------------------+-------------------+\n",
      "|          min(date)|          max(date)|\n",
      "+-------------------+-------------------+\n",
      "|2005-01-24 22:21:29|2019-09-07 17:33:34|\n",
      "+-------------------+-------------------+\n",
      "\n"
     ]
    }
   ],
   "source": [
    "spark.sql(\"SELECT min(date), max(date) FROM df_review\").show()"
   ]
  },
  {
   "cell_type": "code",
   "execution_count": 80,
   "metadata": {
    "application/vnd.databricks.v1+cell": {
     "inputWidgets": {},
     "nuid": "1e47ee29-300c-4586-8128-a129a3dde1c6",
     "showTitle": false,
     "title": ""
    }
   },
   "outputs": [],
   "source": [
    "# With the below min and max result, we filter out recent reviews for 2019 only\n",
    "# +-------------------+-------------------+\n",
    "# |          min(date)|          max(date)|\n",
    "# +-------------------+-------------------+\n",
    "# |2005-01-24 22:21:29|2019-09-07 17:33:34|\n",
    "# +-------------------+-------------------+\n",
    "df_review_filtered = spark.sql(\"\"\"\n",
    "    SELECT * FROM df_review \n",
    "    WHERE date > '2019-01-01' AND \n",
    "    business_id IN (\n",
    "      SELECT business_id from df_covid_features\n",
    "    )\n",
    "\"\"\")"
   ]
  },
  {
   "cell_type": "code",
   "execution_count": 81,
   "metadata": {
    "application/vnd.databricks.v1+cell": {
     "inputWidgets": {},
     "nuid": "6f0c4e00-e577-4ca5-8c3b-8ffff0852792",
     "showTitle": false,
     "title": ""
    }
   },
   "outputs": [
    {
     "data": {
      "text/plain": [
       "6956"
      ]
     },
     "execution_count": 81,
     "metadata": {},
     "output_type": "execute_result"
    }
   ],
   "source": [
    "df_review_filtered.count()"
   ]
  },
  {
   "cell_type": "code",
   "execution_count": 82,
   "metadata": {
    "application/vnd.databricks.v1+cell": {
     "inputWidgets": {},
     "nuid": "90791143-b975-4861-8223-6bba184e8934",
     "showTitle": false,
     "title": ""
    }
   },
   "outputs": [],
   "source": [
    "df_review_filtered.createOrReplaceTempView(\"df_review_filtered\")"
   ]
  },
  {
   "cell_type": "code",
   "execution_count": 83,
   "metadata": {
    "application/vnd.databricks.v1+cell": {
     "inputWidgets": {},
     "nuid": "30f84594-413a-4c16-ab88-134006fb57ae",
     "showTitle": false,
     "title": ""
    }
   },
   "outputs": [
    {
     "name": "stdout",
     "output_type": "stream",
     "text": [
      "+-------------------+-------------------+\n",
      "|          min(date)|          max(date)|\n",
      "+-------------------+-------------------+\n",
      "|2019-01-01 00:22:01|2019-09-07 17:33:34|\n",
      "+-------------------+-------------------+\n",
      "\n"
     ]
    }
   ],
   "source": [
    "# Check minimum data it should show June as the earliest review\n",
    "spark.sql(\"SELECT min(date), max(date) FROM df_review_filtered\").show()"
   ]
  },
  {
   "cell_type": "code",
   "execution_count": 84,
   "metadata": {
    "application/vnd.databricks.v1+cell": {
     "inputWidgets": {},
     "nuid": "53030ec7-b710-425a-b855-9726effc5eb8",
     "showTitle": false,
     "title": ""
    }
   },
   "outputs": [
    {
     "name": "stdout",
     "output_type": "stream",
     "text": [
      "+--------------------+----+-------------------+-----+--------------------+-----+--------------------+------+--------------------+\n",
      "|         business_id|cool|               date|funny|           review_id|stars|                text|useful|             user_id|\n",
      "+--------------------+----+-------------------+-----+--------------------+-----+--------------------+------+--------------------+\n",
      "|5eV8oUGdBXylwB7He...|   0|2019-01-02 19:11:49|    0|Vx-DPb4olxt1Zxf9d...|    4|Top notch cuisine...|     0|Donht4mLJ4aO4FQhq...|\n",
      "|wSAGILK2CFbq5BVZ5...|   0|2019-01-02 15:40:41|    0|zAz8R8quJi2_dPffs...|    4|It pains me to gi...|     0|BgMzrzJtDYK-yUuoJ...|\n",
      "|xkKFDW3-fhXVu_4Qj...|   0|2019-01-07 20:38:15|    0|KpRy2ztU1jcfwoTta...|    5|We had so much fu...|     0|se1Pp_z2fNx09k_9Y...|\n",
      "+--------------------+----+-------------------+-----+--------------------+-----+--------------------+------+--------------------+\n",
      "only showing top 3 rows\n",
      "\n"
     ]
    }
   ],
   "source": [
    "df_review_filtered.show(3)"
   ]
  },
  {
   "cell_type": "code",
   "execution_count": 85,
   "metadata": {
    "application/vnd.databricks.v1+cell": {
     "inputWidgets": {},
     "nuid": "7be102eb-3a0f-4a1e-96aa-70096c43b41c",
     "showTitle": false,
     "title": ""
    }
   },
   "outputs": [],
   "source": [
    "# Flag reviews that contain the \"deliver\"\n",
    "\n",
    "# Change text review to lower case\n",
    "df_review_filtered = df_review_filtered.withColumn(\"text\",lower(col(\"text\")))"
   ]
  },
  {
   "cell_type": "code",
   "execution_count": 86,
   "metadata": {
    "application/vnd.databricks.v1+cell": {
     "inputWidgets": {},
     "nuid": "151dfa62-41fb-417f-afce-95c45b569b55",
     "showTitle": false,
     "title": ""
    }
   },
   "outputs": [],
   "source": [
    "# Find text with delivery and takeout\n",
    "# Points for improvement: Use proper lemmatization\n",
    "#search_text = 'delivery' and 'takeout'\n",
    "\n",
    "df_review_filtered = df_review_filtered.withColumn('delivery_mention', when(col(\"text\").contains('deliver'), 1).otherwise(0))\n",
    "df_review_filtered = df_review_filtered.withColumn('takeout_mention', when(col(\"text\").contains('takeout'), 1).otherwise(0))"
   ]
  },
  {
   "cell_type": "code",
   "execution_count": 87,
   "metadata": {
    "application/vnd.databricks.v1+cell": {
     "inputWidgets": {},
     "nuid": "4bb28c4a-f2ad-43af-935e-ca6cd9fb4028",
     "showTitle": false,
     "title": ""
    }
   },
   "outputs": [
    {
     "name": "stdout",
     "output_type": "stream",
     "text": [
      "+----------------+-----+\n",
      "|delivery_mention|count|\n",
      "+----------------+-----+\n",
      "|               0| 6767|\n",
      "|               1|  189|\n",
      "+----------------+-----+\n",
      "\n"
     ]
    }
   ],
   "source": [
    "df_review_filtered.groupBy(\"delivery_mention\").count().show()"
   ]
  },
  {
   "cell_type": "code",
   "execution_count": 88,
   "metadata": {
    "application/vnd.databricks.v1+cell": {
     "inputWidgets": {},
     "nuid": "7c6d69fd-fabf-41b0-b252-1d551bf24dfd",
     "showTitle": false,
     "title": ""
    }
   },
   "outputs": [
    {
     "name": "stdout",
     "output_type": "stream",
     "text": [
      "+---------------+-----+\n",
      "|takeout_mention|count|\n",
      "+---------------+-----+\n",
      "|              0| 6923|\n",
      "|              1|   33|\n",
      "+---------------+-----+\n",
      "\n"
     ]
    }
   ],
   "source": [
    "df_review_filtered.groupBy(\"takeout_mention\").count().show()"
   ]
  },
  {
   "cell_type": "code",
   "execution_count": 89,
   "metadata": {
    "application/vnd.databricks.v1+cell": {
     "inputWidgets": {},
     "nuid": "d2a911ca-2909-4472-b442-66b7c145feef",
     "showTitle": false,
     "title": ""
    }
   },
   "outputs": [
    {
     "name": "stdout",
     "output_type": "stream",
     "text": [
      "+--------------------+----+-------------------+-----+--------------------+-----+--------------------+------+--------------------+----------------+---------------+\n",
      "|         business_id|cool|               date|funny|           review_id|stars|                text|useful|             user_id|delivery_mention|takeout_mention|\n",
      "+--------------------+----+-------------------+-----+--------------------+-----+--------------------+------+--------------------+----------------+---------------+\n",
      "|5eV8oUGdBXylwB7He...|   0|2019-01-02 19:11:49|    0|Vx-DPb4olxt1Zxf9d...|    4|top notch cuisine...|     0|Donht4mLJ4aO4FQhq...|               0|              0|\n",
      "|wSAGILK2CFbq5BVZ5...|   0|2019-01-02 15:40:41|    0|zAz8R8quJi2_dPffs...|    4|it pains me to gi...|     0|BgMzrzJtDYK-yUuoJ...|               0|              0|\n",
      "|xkKFDW3-fhXVu_4Qj...|   0|2019-01-07 20:38:15|    0|KpRy2ztU1jcfwoTta...|    5|we had so much fu...|     0|se1Pp_z2fNx09k_9Y...|               0|              0|\n",
      "+--------------------+----+-------------------+-----+--------------------+-----+--------------------+------+--------------------+----------------+---------------+\n",
      "only showing top 3 rows\n",
      "\n"
     ]
    }
   ],
   "source": [
    "df_review_filtered.show(3)"
   ]
  },
  {
   "cell_type": "code",
   "execution_count": 90,
   "metadata": {},
   "outputs": [
    {
     "name": "stdout",
     "output_type": "stream",
     "text": [
      "+-----------+----+----+-----+---------+-----+----+------+-------+----------------+---------------+\n",
      "|business_id|cool|date|funny|review_id|stars|text|useful|user_id|delivery_mention|takeout_mention|\n",
      "+-----------+----+----+-----+---------+-----+----+------+-------+----------------+---------------+\n",
      "|          0|   0|   0|    0|        0|    0|   0|     0|      0|               0|              0|\n",
      "+-----------+----+----+-----+---------+-----+----+------+-------+----------------+---------------+\n",
      "\n"
     ]
    }
   ],
   "source": [
    "df_review_filtered.select([count(when(col(c).isNull(), c)).alias(c) for c in df_review_filtered.columns]).show()"
   ]
  },
  {
   "cell_type": "code",
   "execution_count": 91,
   "metadata": {},
   "outputs": [],
   "source": [
    "df_review_filtered.createOrReplaceTempView(\"df_review_filtered\")"
   ]
  },
  {
   "cell_type": "code",
   "execution_count": 92,
   "metadata": {},
   "outputs": [
    {
     "name": "stdout",
     "output_type": "stream",
     "text": [
      "(6956, 11)\n"
     ]
    }
   ],
   "source": [
    "print((df_review_filtered.count(), len(df_review_filtered.columns)))"
   ]
  },
  {
   "cell_type": "code",
   "execution_count": 93,
   "metadata": {},
   "outputs": [],
   "source": [
    "# Merge review with user table\n",
    "df_review_user = spark.sql(\"\"\"\n",
    "    SELECT r.*, u.*\n",
    "    from df_review_filtered r\n",
    "    LEFT JOIN df_user u ON r.user_id == u.user_id\n",
    "\"\"\")"
   ]
  },
  {
   "cell_type": "code",
   "execution_count": 94,
   "metadata": {},
   "outputs": [
    {
     "name": "stdout",
     "output_type": "stream",
     "text": [
      "(6956, 33)\n"
     ]
    }
   ],
   "source": [
    "print((df_review_user.count(), len(df_review_user.columns)))"
   ]
  },
  {
   "cell_type": "code",
   "execution_count": 95,
   "metadata": {},
   "outputs": [
    {
     "name": "stdout",
     "output_type": "stream",
     "text": [
      "+--------------------+----+-------------------+-----+--------------------+-----+--------------------+------+--------------------+----------------+---------------+-------------+---------------+---------------+----------------+--------------+---------------+---------------+---------------+-----------------+----------------+------------------+-----------------+----+-----+----+-------+-----+-------+------------+------+--------------------+-------------------+\n",
      "|         business_id|cool|               date|funny|           review_id|stars|                text|useful|             user_id|delivery_mention|takeout_mention|average_stars|compliment_cool|compliment_cute|compliment_funny|compliment_hot|compliment_list|compliment_more|compliment_note|compliment_photos|compliment_plain|compliment_profile|compliment_writer|cool|elite|fans|friends|funny|   name|review_count|useful|             user_id|      yelping_since|\n",
      "+--------------------+----+-------------------+-----+--------------------+-----+--------------------+------+--------------------+----------------+---------------+-------------+---------------+---------------+----------------+--------------+---------------+---------------+---------------+-----------------+----------------+------------------+-----------------+----+-----+----+-------+-----+-------+------------+------+--------------------+-------------------+\n",
      "|LZxSxY98S7l4a7tJi...|   0|2019-01-20 01:33:18|    0|_biNBR5eO5ut34tiO...|    1|one star because ...|     0|-0njrYCmpFuyEmPpo...|               0|              0|         3.44|              0|              0|               0|             0|              0|              0|              1|                0|               0|                 0|                0|   5|     |   0|   None|    2|Richard|          51|    24|-0njrYCmpFuyEmPpo...|2015-06-29 21:21:09|\n",
      "|D2D2qsxifHaRqNlVh...|   0|2019-02-04 21:41:49|    0|OKtFgey9bXjKbDpW_...|    5|jim welcomed me a...|     0|-1Kio9JtYqCOQBPTj...|               0|              0|          5.0|              0|              0|               0|             0|              0|              0|              0|                0|               0|                 0|                0|   0|     |   0|   None|    0|  Jason|           5|     0|-1Kio9JtYqCOQBPTj...|2018-01-17 02:11:19|\n",
      "|VZaHlSI-RbkMhuUUK...|   0|2019-01-24 03:48:21|    0|3poYYP-pZhd6MJUhy...|    2|i'm disappointed ...|     0|-29oxzbFEX0_rQL60...|               0|              0|         3.55|              0|              0|               0|             0|              0|              1|              0|                0|               0|                 0|                0|   3|     |   0|   None|    1|  Laura|          11|     7|-29oxzbFEX0_rQL60...|2012-11-20 14:52:57|\n",
      "+--------------------+----+-------------------+-----+--------------------+-----+--------------------+------+--------------------+----------------+---------------+-------------+---------------+---------------+----------------+--------------+---------------+---------------+---------------+-----------------+----------------+------------------+-----------------+----+-----+----+-------+-----+-------+------------+------+--------------------+-------------------+\n",
      "only showing top 3 rows\n",
      "\n"
     ]
    }
   ],
   "source": [
    "df_review_user.show(3)"
   ]
  },
  {
   "cell_type": "code",
   "execution_count": 96,
   "metadata": {},
   "outputs": [],
   "source": [
    "df_review_user = df_review_user.na.fill(value=0)"
   ]
  },
  {
   "cell_type": "code",
   "execution_count": 97,
   "metadata": {},
   "outputs": [
    {
     "data": {
      "text/plain": [
       "['business_id',\n",
       " 'cool',\n",
       " 'date',\n",
       " 'funny',\n",
       " 'review_id',\n",
       " 'stars',\n",
       " 'text',\n",
       " 'useful',\n",
       " 'user_id',\n",
       " 'delivery_mention',\n",
       " 'takeout_mention',\n",
       " 'average_stars',\n",
       " 'compliment_cool',\n",
       " 'compliment_cute',\n",
       " 'compliment_funny',\n",
       " 'compliment_hot',\n",
       " 'compliment_list',\n",
       " 'compliment_more',\n",
       " 'compliment_note',\n",
       " 'compliment_photos',\n",
       " 'compliment_plain',\n",
       " 'compliment_profile',\n",
       " 'compliment_writer',\n",
       " 'cool',\n",
       " 'elite',\n",
       " 'fans',\n",
       " 'friends',\n",
       " 'funny',\n",
       " 'name',\n",
       " 'review_count',\n",
       " 'useful',\n",
       " 'user_id',\n",
       " 'yelping_since']"
      ]
     },
     "execution_count": 97,
     "metadata": {},
     "output_type": "execute_result"
    }
   ],
   "source": [
    "df_review_user.schema.names"
   ]
  },
  {
   "cell_type": "code",
   "execution_count": 98,
   "metadata": {
    "application/vnd.databricks.v1+cell": {
     "inputWidgets": {},
     "nuid": "10746846-6313-46c4-84af-5ac4a131d549",
     "showTitle": false,
     "title": ""
    }
   },
   "outputs": [],
   "source": [
    "from pyspark.ml.feature import SQLTransformer\n",
    "\n",
    "# Create SQL Transformer\n",
    "sql_transformation = SQLTransformer()\\\n",
    "  .setStatement(\"\"\"\n",
    "    SELECT business_id as r_business_id,\n",
    "        avg(stars) as avg_stars, sum(stars) as sum_stars,\n",
    "        sum(delivery_mention) as delivery_mention,\n",
    "        sum(takeout_mention) as takeout_mention,\n",
    "        count(*) as review_count,\n",
    "        avg(average_stars) as rev_average_stars,\n",
    "        sum(average_stars) as rev_sum_user_stars,\n",
    "        sum(compliment_cool) as rev_user_compliment_cool,\n",
    "        sum(compliment_cute) as rev_user_compliment_cute,\n",
    "        sum(compliment_funny) as rev_user_compliment_funny,\n",
    "        sum(compliment_hot) as rev_user_compliment_hot,\n",
    "        sum(elite) as rev_user_elite,\n",
    "        sum(fans) as rev_user_fans,\n",
    "        sum(friends) as rev_user_friends    \n",
    "    FROM __THIS__\n",
    "    GROUP BY business_id\n",
    "  \"\"\")"
   ]
  },
  {
   "cell_type": "code",
   "execution_count": 99,
   "metadata": {
    "application/vnd.databricks.v1+cell": {
     "inputWidgets": {},
     "nuid": "0b8e7c59-71c0-4a0c-a7ab-1411f7fd3170",
     "showTitle": false,
     "title": ""
    }
   },
   "outputs": [],
   "source": [
    "df_review_transformed = sql_transformation.transform(df_review_user)"
   ]
  },
  {
   "cell_type": "code",
   "execution_count": 100,
   "metadata": {
    "application/vnd.databricks.v1+cell": {
     "inputWidgets": {},
     "nuid": "a1f5e158-b4ba-480b-b39a-089fa9f7bf2e",
     "showTitle": false,
     "title": ""
    }
   },
   "outputs": [
    {
     "name": "stdout",
     "output_type": "stream",
     "text": [
      "+--------------------+---------+---------+----------------+---------------+------------+------------------+------------------+------------------------+------------------------+-------------------------+-----------------------+--------------+-------------+----------------+\n",
      "|       r_business_id|avg_stars|sum_stars|delivery_mention|takeout_mention|review_count| rev_average_stars|rev_sum_user_stars|rev_user_compliment_cool|rev_user_compliment_cute|rev_user_compliment_funny|rev_user_compliment_hot|rev_user_elite|rev_user_fans|rev_user_friends|\n",
      "+--------------------+---------+---------+----------------+---------------+------------+------------------+------------------+------------------------+------------------------+-------------------------+-----------------------+--------------+-------------+----------------+\n",
      "|VZaHlSI-RbkMhuUUK...|      2.0|        2|               0|              0|           1|              3.55|              3.55|                       0|                       0|                        0|                      0|          null|            0|            null|\n",
      "|zk3AimWhuz0EZsNgI...|      2.5|       10|               1|              0|           4|3.3324999999999996|13.329999999999998|                       1|                       0|                        1|                      1|        2018.0|            6|            null|\n",
      "+--------------------+---------+---------+----------------+---------------+------------+------------------+------------------+------------------------+------------------------+-------------------------+-----------------------+--------------+-------------+----------------+\n",
      "only showing top 2 rows\n",
      "\n"
     ]
    }
   ],
   "source": [
    "df_review_transformed.show(2)"
   ]
  },
  {
   "cell_type": "code",
   "execution_count": 101,
   "metadata": {
    "application/vnd.databricks.v1+cell": {
     "inputWidgets": {},
     "nuid": "55ee344f-6e59-42fb-afd1-d9e6d0b25529",
     "showTitle": false,
     "title": ""
    }
   },
   "outputs": [
    {
     "name": "stdout",
     "output_type": "stream",
     "text": [
      "19018\n",
      "3243\n"
     ]
    }
   ],
   "source": [
    "# Merge with base table\n",
    "print(df_final_base.count())\n",
    "print(df_review_transformed.count())"
   ]
  },
  {
   "cell_type": "code",
   "execution_count": 102,
   "metadata": {
    "application/vnd.databricks.v1+cell": {
     "inputWidgets": {},
     "nuid": "8187186b-7d26-4f72-b1a7-2b74955cee3b",
     "showTitle": false,
     "title": ""
    }
   },
   "outputs": [],
   "source": [
    "df_final_base.createOrReplaceTempView(\"df_final_base\")\n",
    "df_review_transformed.createOrReplaceTempView(\"df_review_transformed\")"
   ]
  },
  {
   "cell_type": "code",
   "execution_count": 103,
   "metadata": {
    "application/vnd.databricks.v1+cell": {
     "inputWidgets": {},
     "nuid": "33d3f51a-daa1-401e-8996-51701f3473a8",
     "showTitle": false,
     "title": ""
    }
   },
   "outputs": [],
   "source": [
    "# Merge with base table\n",
    "df_final_base = spark.sql(\"\"\"\n",
    "    SELECT f.*, r.*\n",
    "    from df_final_base f\n",
    "    LEFT JOIN df_review_transformed r ON f.business_id == r.r_business_id\n",
    "\"\"\")"
   ]
  },
  {
   "cell_type": "code",
   "execution_count": 104,
   "metadata": {
    "application/vnd.databricks.v1+cell": {
     "inputWidgets": {},
     "nuid": "806839ae-8f76-4ffd-bd3b-a8c72ab93145",
     "showTitle": false,
     "title": ""
    }
   },
   "outputs": [],
   "source": [
    "df_final_base = df_final_base.drop(\"r_business_id\")"
   ]
  },
  {
   "cell_type": "code",
   "execution_count": 105,
   "metadata": {
    "application/vnd.databricks.v1+cell": {
     "inputWidgets": {},
     "nuid": "e597efc8-cb0e-4ffd-a8e1-0ef80512ce68",
     "showTitle": false,
     "title": ""
    }
   },
   "outputs": [],
   "source": [
    "# fill rows with no reviews with 0\n",
    "df_final_base = df_final_base.na.fill(value=0)"
   ]
  },
  {
   "cell_type": "code",
   "execution_count": 106,
   "metadata": {
    "application/vnd.databricks.v1+cell": {
     "inputWidgets": {},
     "nuid": "b0e26e13-d429-4509-b005-7f60c9d65c1a",
     "showTitle": false,
     "title": ""
    }
   },
   "outputs": [],
   "source": [
    "# Update view\n",
    "df_final_base.createOrReplaceTempView(\"df_final_base\")"
   ]
  },
  {
   "cell_type": "code",
   "execution_count": 107,
   "metadata": {
    "application/vnd.databricks.v1+cell": {
     "inputWidgets": {},
     "nuid": "da5b253a-4f26-437b-9967-72db9f3c4abb",
     "showTitle": false,
     "title": ""
    }
   },
   "outputs": [
    {
     "name": "stdout",
     "output_type": "stream",
     "text": [
      "(19018, 31)\n"
     ]
    }
   ],
   "source": [
    "print((df_final_base.count(), len(df_final_base.columns)))"
   ]
  },
  {
   "cell_type": "code",
   "execution_count": 108,
   "metadata": {},
   "outputs": [
    {
     "data": {
      "text/plain": [
       "['Call_To_Action_enabled',\n",
       " 'Grubhub_enabled',\n",
       " 'Request_a_Quote_Enabled',\n",
       " 'business_id',\n",
       " 'Covid_Banner_withText',\n",
       " 'Temporary_Closed_Until_withText',\n",
       " 'Virtual_Services_Offered_withText',\n",
       " 'highlights_withText',\n",
       " 'VSO_dum',\n",
       " 'label',\n",
       " 'is_open',\n",
       " 'biz_review_count',\n",
       " 'stars',\n",
       " 'RestaurantsTakeOut_dum',\n",
       " 'city_dum',\n",
       " 'state_dum',\n",
       " 'checkin_count',\n",
       " 'avg_stars',\n",
       " 'sum_stars',\n",
       " 'delivery_mention',\n",
       " 'takeout_mention',\n",
       " 'review_count',\n",
       " 'rev_average_stars',\n",
       " 'rev_sum_user_stars',\n",
       " 'rev_user_compliment_cool',\n",
       " 'rev_user_compliment_cute',\n",
       " 'rev_user_compliment_funny',\n",
       " 'rev_user_compliment_hot',\n",
       " 'rev_user_elite',\n",
       " 'rev_user_fans',\n",
       " 'rev_user_friends']"
      ]
     },
     "execution_count": 108,
     "metadata": {},
     "output_type": "execute_result"
    }
   ],
   "source": [
    "df_final_base.schema.names"
   ]
  },
  {
   "cell_type": "code",
   "execution_count": 109,
   "metadata": {
    "application/vnd.databricks.v1+cell": {
     "inputWidgets": {},
     "nuid": "96d4c014-456e-4a3b-b231-97aee6ebdb67",
     "showTitle": true,
     "title": "Data Processing for  yelp_academic_dataset_tip.json"
    }
   },
   "outputs": [],
   "source": [
    "# Load tip file\n",
    "df_tip = spark.read.format(\"json\")\\\n",
    "  .option(\"inferSchema\", \"true\")\\\n",
    "  .option(\"header\",\"true\")\\\n",
    "  .load(path_yelp_tip)"
   ]
  },
  {
   "cell_type": "code",
   "execution_count": 110,
   "metadata": {
    "application/vnd.databricks.v1+cell": {
     "inputWidgets": {},
     "nuid": "773e12cd-fe4e-4ae0-9c6e-1ee37a030e53",
     "showTitle": false,
     "title": ""
    }
   },
   "outputs": [
    {
     "name": "stdout",
     "output_type": "stream",
     "text": [
      "+--------------------+----------------+-------------------+--------------------+--------------------+\n",
      "|         business_id|compliment_count|               date|                text|             user_id|\n",
      "+--------------------+----------------+-------------------+--------------------+--------------------+\n",
      "|rcaPajgKOJC2vo_l3...|               0|2012-05-29 02:05:56|Kelly is an aweso...|2hdR7KYAmnCk2FjTn...|\n",
      "|-wDNRL4lm1UgeFLG9...|               0|2016-04-19 09:33:45|Great food. Been ...|XhGn2quN9IzMI4HkM...|\n",
      "+--------------------+----------------+-------------------+--------------------+--------------------+\n",
      "only showing top 2 rows\n",
      "\n"
     ]
    }
   ],
   "source": [
    "df_tip.show(2)"
   ]
  },
  {
   "cell_type": "code",
   "execution_count": 111,
   "metadata": {
    "application/vnd.databricks.v1+cell": {
     "inputWidgets": {},
     "nuid": "ba8adda9-6683-4707-bd04-00df78a524ea",
     "showTitle": false,
     "title": ""
    }
   },
   "outputs": [],
   "source": [
    "df_tip.createOrReplaceTempView(\"df_tip\")"
   ]
  },
  {
   "cell_type": "code",
   "execution_count": 112,
   "metadata": {
    "application/vnd.databricks.v1+cell": {
     "inputWidgets": {},
     "nuid": "04ed3609-50d4-44e6-b1db-10a591253f72",
     "showTitle": false,
     "title": ""
    }
   },
   "outputs": [],
   "source": [
    "df_tip_filtered = spark.sql(\"\"\"\n",
    "    SELECT * FROM df_tip \n",
    "    WHERE business_id IN (\n",
    "      SELECT business_id from df_covid_features\n",
    "    )\n",
    "\"\"\")"
   ]
  },
  {
   "cell_type": "code",
   "execution_count": 113,
   "metadata": {
    "application/vnd.databricks.v1+cell": {
     "inputWidgets": {},
     "nuid": "0284127b-693d-4e72-88ff-0bf71af4bf46",
     "showTitle": false,
     "title": ""
    }
   },
   "outputs": [
    {
     "name": "stdout",
     "output_type": "stream",
     "text": [
      "(124161, 5)\n"
     ]
    }
   ],
   "source": [
    "# Get shape of filtered tip dataframe\n",
    "print((df_tip_filtered.count(), len(df_tip_filtered.columns)))"
   ]
  },
  {
   "cell_type": "code",
   "execution_count": 114,
   "metadata": {
    "application/vnd.databricks.v1+cell": {
     "inputWidgets": {},
     "nuid": "5fde8a62-b925-40b9-9d3b-2563bac1acd7",
     "showTitle": false,
     "title": ""
    }
   },
   "outputs": [
    {
     "data": {
      "text/plain": [
       "12578"
      ]
     },
     "execution_count": 114,
     "metadata": {},
     "output_type": "execute_result"
    }
   ],
   "source": [
    "df_tip_filtered.select(\"business_id\").distinct().count()"
   ]
  },
  {
   "cell_type": "code",
   "execution_count": 115,
   "metadata": {
    "application/vnd.databricks.v1+cell": {
     "inputWidgets": {},
     "nuid": "77e7d914-afc6-41d7-ab23-216dca5051fe",
     "showTitle": false,
     "title": ""
    }
   },
   "outputs": [
    {
     "name": "stdout",
     "output_type": "stream",
     "text": [
      "+--------------------+----------------+-------------------+--------------------+--------------------+\n",
      "|         business_id|compliment_count|               date|                text|             user_id|\n",
      "+--------------------+----------------+-------------------+--------------------+--------------------+\n",
      "|rcaPajgKOJC2vo_l3...|               0|2012-05-29 02:05:56|Kelly is an aweso...|2hdR7KYAmnCk2FjTn...|\n",
      "|-wDNRL4lm1UgeFLG9...|               0|2016-04-19 09:33:45|Great food. Been ...|XhGn2quN9IzMI4HkM...|\n",
      "+--------------------+----------------+-------------------+--------------------+--------------------+\n",
      "only showing top 2 rows\n",
      "\n"
     ]
    }
   ],
   "source": [
    "df_tip_filtered.show(2)"
   ]
  },
  {
   "cell_type": "code",
   "execution_count": 116,
   "metadata": {
    "application/vnd.databricks.v1+cell": {
     "inputWidgets": {},
     "nuid": "81d27fc2-361d-4eef-a8c3-3018968f0e2b",
     "showTitle": false,
     "title": ""
    }
   },
   "outputs": [],
   "source": [
    "df_tip_filtered.createOrReplaceTempView(\"df_tip_filtered\")"
   ]
  },
  {
   "cell_type": "code",
   "execution_count": 117,
   "metadata": {},
   "outputs": [],
   "source": [
    "# Merge review with user table\n",
    "df_tip_user = spark.sql(\"\"\"\n",
    "    SELECT t.*, u.*\n",
    "    from df_tip_filtered t\n",
    "    LEFT JOIN df_user u ON t.user_id == u.user_id\n",
    "\"\"\")"
   ]
  },
  {
   "cell_type": "code",
   "execution_count": 118,
   "metadata": {},
   "outputs": [],
   "source": [
    "df_tip_user.createOrReplaceTempView(\"df_tip_user\")"
   ]
  },
  {
   "cell_type": "code",
   "execution_count": 119,
   "metadata": {},
   "outputs": [
    {
     "data": {
      "text/plain": [
       "['business_id',\n",
       " 'compliment_count',\n",
       " 'date',\n",
       " 'text',\n",
       " 'user_id',\n",
       " 'average_stars',\n",
       " 'compliment_cool',\n",
       " 'compliment_cute',\n",
       " 'compliment_funny',\n",
       " 'compliment_hot',\n",
       " 'compliment_list',\n",
       " 'compliment_more',\n",
       " 'compliment_note',\n",
       " 'compliment_photos',\n",
       " 'compliment_plain',\n",
       " 'compliment_profile',\n",
       " 'compliment_writer',\n",
       " 'cool',\n",
       " 'elite',\n",
       " 'fans',\n",
       " 'friends',\n",
       " 'funny',\n",
       " 'name',\n",
       " 'review_count',\n",
       " 'useful',\n",
       " 'user_id',\n",
       " 'yelping_since']"
      ]
     },
     "execution_count": 119,
     "metadata": {},
     "output_type": "execute_result"
    }
   ],
   "source": [
    "df_tip_user.schema.names"
   ]
  },
  {
   "cell_type": "code",
   "execution_count": 120,
   "metadata": {
    "application/vnd.databricks.v1+cell": {
     "inputWidgets": {},
     "nuid": "7668bc2c-fb84-4358-b824-1f1a747a3e4b",
     "showTitle": false,
     "title": ""
    }
   },
   "outputs": [],
   "source": [
    "# Get info of tips\n",
    "df_tip_filtered_2019 = spark.sql(\"\"\"\n",
    "  SELECT business_id as t_business_id, \n",
    "  avg(compliment_count) as avg_tip_num_of_compliment , \n",
    "  sum(compliment_count) as total_tip_num_of_compliment, \n",
    "  count(*) as total_tip_row,\n",
    "  avg(average_stars) as tip_average_stars,\n",
    "  sum(average_stars) as tip_sum_user_stars,\n",
    "  sum(compliment_cool) as tip_user_compliment_cool,\n",
    "  sum(compliment_cute) as tip_user_compliment_cute,\n",
    "  sum(compliment_funny) as tip_user_compliment_funny,\n",
    "  sum(compliment_hot) as tip_user_compliment_hot,\n",
    "  sum(elite) as tip_user_elite,\n",
    "  sum(fans) as tip_user_fans,\n",
    "  sum(friends) as tip_user_friends  \n",
    "  FROM df_tip_user\n",
    "  WHERE date >= '2019-01-01'\n",
    "  group by business_id\n",
    "\"\"\")"
   ]
  },
  {
   "cell_type": "code",
   "execution_count": 121,
   "metadata": {
    "application/vnd.databricks.v1+cell": {
     "inputWidgets": {},
     "nuid": "34f4c406-90f3-4ceb-a9d5-79bdb3203e03",
     "showTitle": false,
     "title": ""
    }
   },
   "outputs": [],
   "source": [
    "df_tip_filtered_2019.createOrReplaceTempView(\"df_tip_filtered_2019\")"
   ]
  },
  {
   "cell_type": "code",
   "execution_count": 122,
   "metadata": {
    "application/vnd.databricks.v1+cell": {
     "inputWidgets": {},
     "nuid": "25f0227c-aafa-44ab-812a-aeaaf505c191",
     "showTitle": false,
     "title": ""
    }
   },
   "outputs": [
    {
     "data": {
      "text/plain": [
       "2889"
      ]
     },
     "execution_count": 122,
     "metadata": {},
     "output_type": "execute_result"
    }
   ],
   "source": [
    "df_tip_filtered_2019.select(\"t_business_id\").distinct().count()"
   ]
  },
  {
   "cell_type": "code",
   "execution_count": 125,
   "metadata": {
    "application/vnd.databricks.v1+cell": {
     "inputWidgets": {},
     "nuid": "fb2effef-dbdb-455e-9d0e-8278f95a3bfc",
     "showTitle": false,
     "title": ""
    }
   },
   "outputs": [],
   "source": [
    "# Join tip with basetable\n",
    "df_final_base = spark.sql(\"\"\"\n",
    "    SELECT f.*, t.*\n",
    "    from df_final_base f\n",
    "    LEFT JOIN df_tip_filtered_2019 t ON f.business_id == t.t_business_id\n",
    "\"\"\")"
   ]
  },
  {
   "cell_type": "code",
   "execution_count": 128,
   "metadata": {
    "application/vnd.databricks.v1+cell": {
     "inputWidgets": {},
     "nuid": "fc165444-3358-4777-b3cd-476efcfc7130",
     "showTitle": false,
     "title": ""
    }
   },
   "outputs": [
    {
     "name": "stdout",
     "output_type": "stream",
     "text": [
      "(19018, 44)\n"
     ]
    }
   ],
   "source": [
    "print((df_final_base.count(), len(df_final_base.columns)))"
   ]
  },
  {
   "cell_type": "code",
   "execution_count": 129,
   "metadata": {
    "application/vnd.databricks.v1+cell": {
     "inputWidgets": {},
     "nuid": "8c12af4a-938f-40bf-b48d-ee5c1338d047",
     "showTitle": false,
     "title": ""
    }
   },
   "outputs": [],
   "source": [
    "df_final_base = df_final_base.na.fill(value=0)"
   ]
  },
  {
   "cell_type": "code",
   "execution_count": 130,
   "metadata": {},
   "outputs": [],
   "source": [
    "df_final_base = df_final_base.drop(\"t_business_id\")"
   ]
  },
  {
   "cell_type": "code",
   "execution_count": 131,
   "metadata": {
    "application/vnd.databricks.v1+cell": {
     "inputWidgets": {},
     "nuid": "39e7d305-21df-4d21-bacb-91e7765aa47f",
     "showTitle": false,
     "title": ""
    }
   },
   "outputs": [],
   "source": [
    "df_final_base.createOrReplaceTempView(\"df_final_base\")"
   ]
  },
  {
   "cell_type": "code",
   "execution_count": 132,
   "metadata": {
    "application/vnd.databricks.v1+cell": {
     "inputWidgets": {},
     "nuid": "b9614242-1fa8-493c-9f51-ac098ee8fa0c",
     "showTitle": false,
     "title": ""
    }
   },
   "outputs": [
    {
     "name": "stdout",
     "output_type": "stream",
     "text": [
      "+----------------------+---------------+-----------------------+--------------------+---------------------+-------------------------------+---------------------------------+-------------------+-------------+-----+-------+----------------+-----+----------------------+-----------------+--------------+-------------+---------+---------+----------------+---------------+------------+-----------------+------------------+------------------------+------------------------+-------------------------+-----------------------+--------------+-------------+----------------+-------------------------+---------------------------+-------------+-----------------+------------------+------------------------+------------------------+-------------------------+-----------------------+--------------+-------------+----------------+\n",
      "|Call_To_Action_enabled|Grubhub_enabled|Request_a_Quote_Enabled|         business_id|Covid_Banner_withText|Temporary_Closed_Until_withText|Virtual_Services_Offered_withText|highlights_withText|      VSO_dum|label|is_open|biz_review_count|stars|RestaurantsTakeOut_dum|         city_dum|     state_dum|checkin_count|avg_stars|sum_stars|delivery_mention|takeout_mention|review_count|rev_average_stars|rev_sum_user_stars|rev_user_compliment_cool|rev_user_compliment_cute|rev_user_compliment_funny|rev_user_compliment_hot|rev_user_elite|rev_user_fans|rev_user_friends|avg_tip_num_of_compliment|total_tip_num_of_compliment|total_tip_row|tip_average_stars|tip_sum_user_stars|tip_user_compliment_cool|tip_user_compliment_cute|tip_user_compliment_funny|tip_user_compliment_hot|tip_user_elite|tip_user_fans|tip_user_friends|\n",
      "+----------------------+---------------+-----------------------+--------------------+---------------------+-------------------------------+---------------------------------+-------------------+-------------+-----+-------+----------------+-----+----------------------+-----------------+--------------+-------------+---------+---------+----------------+---------------+------------+-----------------+------------------+------------------------+------------------------+-------------------------+-----------------------+--------------+-------------+----------------+-------------------------+---------------------------+-------------+-----------------+------------------+------------------------+------------------------+-------------------------+-----------------------+--------------+-------------+----------------+\n",
      "|                   1.0|            0.0|                    0.0|-0LPtgJC31FWMrMv3...|                    0|                              0|                                0|                  0|(6,[0],[1.0])|  0.0|      1|               5|  3.0|         (3,[0],[1.0])| (494,[41],[1.0])|(15,[3],[1.0])|            0|      0.0|        0|               0|              0|           0|              0.0|               0.0|                       0|                       0|                        0|                      0|           0.0|            0|             0.0|                      0.0|                          0|            0|              0.0|               0.0|                       0|                       0|                        0|                      0|           0.0|            0|             0.0|\n",
      "|                   0.0|            0.0|                    0.0|-1MVd6ljY2JT6gCKn...|                    0|                              0|                                0|                  0|(6,[0],[1.0])|  0.0|      1|              12|  3.0|         (3,[0],[1.0])|  (494,[0],[1.0])|(15,[1],[1.0])|            0|      0.0|        0|               0|              0|           0|              0.0|               0.0|                       0|                       0|                        0|                      0|           0.0|            0|             0.0|                      0.0|                          0|            1|              0.0|               0.0|                       0|                       0|                        0|                      0|           0.0|            0|             0.0|\n",
      "|                   0.0|            0.0|                    0.0|-2AQs-KdwG5QCwGBS...|                    0|                              0|                                0|                  0|(6,[0],[1.0])|  0.0|      1|              36|  2.5|         (3,[0],[1.0])|  (494,[5],[1.0])|(15,[7],[1.0])|            0|      1.0|        1|               0|              0|           1|              3.0|               3.0|                       0|                       0|                        0|                      0|           0.0|            0|             0.0|                      0.0|                          0|            0|              0.0|               0.0|                       0|                       0|                        0|                      0|           0.0|            0|             0.0|\n",
      "|                   0.0|            0.0|                    0.0|-2R--HQiUyvN4qld5...|                    0|                              0|                                0|                  0|(6,[0],[1.0])|  1.0|      1|               8|  3.0|         (3,[1],[1.0])|  (494,[7],[1.0])|(15,[6],[1.0])|            0|      0.0|        0|               0|              0|           0|              0.0|               0.0|                       0|                       0|                        0|                      0|           0.0|            0|             0.0|                      0.0|                          0|            0|              0.0|               0.0|                       0|                       0|                        0|                      0|           0.0|            0|             0.0|\n",
      "|                   0.0|            0.0|                    0.0|-2ToCaDFpTNmmg3QF...|                    0|                              0|                                0|                  0|(6,[0],[1.0])|  0.0|      1|             451|  1.5|         (3,[0],[1.0])|  (494,[0],[1.0])|(15,[1],[1.0])|            0|      0.0|        0|               0|              0|           0|              0.0|               0.0|                       0|                       0|                        0|                      0|           0.0|            0|             0.0|                      0.0|                          0|            0|              0.0|               0.0|                       0|                       0|                        0|                      0|           0.0|            0|             0.0|\n",
      "|                   0.0|            0.0|                    0.0|-2UWYfzeK65e6naWS...|                    0|                              0|                                0|                  0|(6,[0],[1.0])|  0.0|      1|              20|  2.5|         (3,[0],[1.0])| (494,[24],[1.0])|(15,[0],[1.0])|            0|      0.0|        0|               0|              0|           0|              0.0|               0.0|                       0|                       0|                        0|                      0|           0.0|            0|             0.0|                      0.0|                          0|            0|              0.0|               0.0|                       0|                       0|                        0|                      0|           0.0|            0|             0.0|\n",
      "|                   0.0|            0.0|                    0.0|-2hDBMaza_ldqnZdi...|                    0|                              0|                                0|                  0|(6,[0],[1.0])|  0.0|      1|              12|  2.0|         (3,[0],[1.0])|  (494,[0],[1.0])|(15,[1],[1.0])|            0|      0.0|        0|               0|              0|           0|              0.0|               0.0|                       0|                       0|                        0|                      0|           0.0|            0|             0.0|                      0.0|                          0|            9|              0.0|               0.0|                       0|                       0|                        0|                      0|           0.0|            0|             0.0|\n",
      "|                   1.0|            0.0|                    0.0|-2uUrtgM5fiOaCpQE...|                    0|                              0|                                0|                  0|(6,[0],[1.0])|  0.0|      1|               7|  2.5|         (3,[0],[1.0])|  (494,[3],[1.0])|(15,[4],[1.0])|            0|      0.0|        0|               0|              0|           0|              0.0|               0.0|                       0|                       0|                        0|                      0|           0.0|            0|             0.0|                      0.0|                          0|            0|              0.0|               0.0|                       0|                       0|                        0|                      0|           0.0|            0|             0.0|\n",
      "|                   0.0|            0.0|                    0.0|-2uYjztVuVZpkTNAC...|                    0|                              0|                                0|                  0|(6,[0],[1.0])|  1.0|      1|              13|  3.5|         (3,[1],[1.0])|  (494,[1],[1.0])|(15,[2],[1.0])|            0|      2.0|        2|               0|              0|           1|             3.52|              3.52|                       0|                       0|                        0|                      0|           0.0|            2|             0.0|                      0.0|                          0|            0|              0.0|               0.0|                       0|                       0|                        0|                      0|           0.0|            0|             0.0|\n",
      "|                   0.0|            0.0|                    0.0|-3QHAylnVB-vNmCg2...|                    0|                              0|                                0|                  0|(6,[0],[1.0])|  0.0|      1|              22|  5.0|         (3,[0],[1.0])| (494,[49],[1.0])|(15,[8],[1.0])|            0|      0.0|        0|               0|              0|           0|              0.0|               0.0|                       0|                       0|                        0|                      0|           0.0|            0|             0.0|                      0.0|                          0|            0|              0.0|               0.0|                       0|                       0|                        0|                      0|           0.0|            0|             0.0|\n",
      "|                   1.0|            0.0|                    0.0|-50Q1gPsX7yHEirdQ...|                    0|                              0|                                0|                  0|(6,[0],[1.0])|  0.0|      1|               4|  3.0|         (3,[0],[1.0])| (494,[10],[1.0])|(15,[0],[1.0])|            0|      0.0|        0|               0|              0|           0|              0.0|               0.0|                       0|                       0|                        0|                      0|           0.0|            0|             0.0|                      0.0|                          0|            0|              0.0|               0.0|                       0|                       0|                        0|                      0|           0.0|            0|             0.0|\n",
      "|                   0.0|            0.0|                    0.0|-5DseNF-7fhUyLKbg...|                    0|                              0|                                0|                  0|(6,[0],[1.0])|  0.0|      1|               6|  4.5|         (3,[0],[1.0])|(494,[120],[1.0])|(15,[3],[1.0])|            0|      0.0|        0|               0|              0|           0|              0.0|               0.0|                       0|                       0|                        0|                      0|           0.0|            0|             0.0|                      0.0|                          0|            0|              0.0|               0.0|                       0|                       0|                        0|                      0|           0.0|            0|             0.0|\n",
      "|                   1.0|            0.0|                    0.0|-6gN412KV3Bi9Tqwg...|                    0|                              0|                                0|                  0|(6,[0],[1.0])|  0.0|      1|              11|  4.5|         (3,[0],[1.0])|(494,[155],[1.0])|(15,[0],[1.0])|            0|      0.0|        0|               0|              0|           0|              0.0|               0.0|                       0|                       0|                        0|                      0|           0.0|            0|             0.0|                      0.0|                          0|            0|              0.0|               0.0|                       0|                       0|                        0|                      0|           0.0|            0|             0.0|\n",
      "|                   0.0|            0.0|                    0.0|-7-uHFjQLH_uxPauY...|                    0|                              0|                                0|                  0|(6,[0],[1.0])|  1.0|      1|              17|  3.5|         (3,[1],[1.0])|  (494,[5],[1.0])|(15,[7],[1.0])|            0|      0.0|        0|               0|              0|           0|              0.0|               0.0|                       0|                       0|                        0|                      0|           0.0|            0|             0.0|                      0.0|                          0|            0|              0.0|               0.0|                       0|                       0|                        0|                      0|           0.0|            0|             0.0|\n",
      "|                   0.0|            0.0|                    0.0|-7HayPp0cVhteJQcP...|                    0|                              0|                                0|                  0|(6,[0],[1.0])|  0.0|      1|               7|  2.5|         (3,[0],[1.0])|  (494,[1],[1.0])|(15,[2],[1.0])|            0|      0.0|        0|               0|              0|           0|              0.0|               0.0|                       0|                       0|                        0|                      0|           0.0|            0|             0.0|                      0.0|                          0|            0|              0.0|               0.0|                       0|                       0|                        0|                      0|           0.0|            0|             0.0|\n",
      "|                   0.0|            1.0|                    0.0|-8F04F54iDT6VgWPC...|                    0|                              0|                                0|                  0|(6,[0],[1.0])|  1.0|      1|             131|  4.5|         (3,[1],[1.0])|  (494,[6],[1.0])|(15,[5],[1.0])|            0|      5.0|       15|               0|              0|           3|             4.54|13.620000000000001|                       1|                       0|                        1|                      1|           0.0|            8|             0.0|                      0.0|                          0|            1|              0.0|               0.0|                       0|                       0|                        0|                      0|           0.0|            0|             0.0|\n",
      "|                   1.0|            1.0|                    0.0|-8PU0Z4Q2Nc-sY0eB...|                    0|                              0|                                0|                  0|(6,[0],[1.0])|  1.0|      1|              12|  1.0|         (3,[1],[1.0])|(494,[114],[1.0])|(15,[3],[1.0])|            0|      0.0|        0|               0|              0|           0|              0.0|               0.0|                       0|                       0|                        0|                      0|           0.0|            0|             0.0|                      0.0|                          0|            0|              0.0|               0.0|                       0|                       0|                        0|                      0|           0.0|            0|             0.0|\n",
      "|                   0.0|            0.0|                    0.0|-9Ff8WEoiFsw_mfmJ...|                    0|                              0|                                0|                  0|(6,[0],[1.0])|  1.0|      1|              92|  3.0|         (3,[0],[1.0])|  (494,[5],[1.0])|(15,[7],[1.0])|            0|      0.0|        0|               0|              0|           0|              0.0|               0.0|                       0|                       0|                        0|                      0|           0.0|            0|             0.0|                      0.0|                          0|            0|              0.0|               0.0|                       0|                       0|                        0|                      0|           0.0|            0|             0.0|\n",
      "|                   0.0|            0.0|                    0.0|-AHS68n6wkMuQrx3b...|                    0|                              0|                                0|                  0|(6,[0],[1.0])|  0.0|      1|              22|  4.5|         (3,[0],[1.0])|  (494,[2],[1.0])|(15,[0],[1.0])|            0|      0.0|        0|               0|              0|           0|              0.0|               0.0|                       0|                       0|                        0|                      0|           0.0|            0|             0.0|                      0.0|                          0|            0|              0.0|               0.0|                       0|                       0|                        0|                      0|           0.0|            0|             0.0|\n",
      "|                   0.0|            0.0|                    0.0|-AtzcXIwEP6yO7rM9...|                    0|                              0|                                0|                  0|(6,[0],[1.0])|  1.0|      0|              36|  4.0|         (3,[1],[1.0])|  (494,[6],[1.0])|(15,[5],[1.0])|            0|      0.0|        0|               0|              0|           0|              0.0|               0.0|                       0|                       0|                        0|                      0|           0.0|            0|             0.0|                      0.0|                          0|            0|              0.0|               0.0|                       0|                       0|                        0|                      0|           0.0|            0|             0.0|\n",
      "+----------------------+---------------+-----------------------+--------------------+---------------------+-------------------------------+---------------------------------+-------------------+-------------+-----+-------+----------------+-----+----------------------+-----------------+--------------+-------------+---------+---------+----------------+---------------+------------+-----------------+------------------+------------------------+------------------------+-------------------------+-----------------------+--------------+-------------+----------------+-------------------------+---------------------------+-------------+-----------------+------------------+------------------------+------------------------+-------------------------+-----------------------+--------------+-------------+----------------+\n",
      "only showing top 20 rows\n",
      "\n"
     ]
    }
   ],
   "source": [
    "df_final_base.show()"
   ]
  },
  {
   "cell_type": "code",
   "execution_count": 134,
   "metadata": {},
   "outputs": [
    {
     "data": {
      "text/plain": [
       "['Call_To_Action_enabled',\n",
       " 'Grubhub_enabled',\n",
       " 'Request_a_Quote_Enabled',\n",
       " 'business_id',\n",
       " 'Covid_Banner_withText',\n",
       " 'Temporary_Closed_Until_withText',\n",
       " 'Virtual_Services_Offered_withText',\n",
       " 'highlights_withText',\n",
       " 'VSO_dum',\n",
       " 'label',\n",
       " 'is_open',\n",
       " 'biz_review_count',\n",
       " 'stars',\n",
       " 'RestaurantsTakeOut_dum',\n",
       " 'city_dum',\n",
       " 'state_dum',\n",
       " 'checkin_count',\n",
       " 'avg_stars',\n",
       " 'sum_stars',\n",
       " 'delivery_mention',\n",
       " 'takeout_mention',\n",
       " 'review_count',\n",
       " 'rev_average_stars',\n",
       " 'rev_sum_user_stars',\n",
       " 'rev_user_compliment_cool',\n",
       " 'rev_user_compliment_cute',\n",
       " 'rev_user_compliment_funny',\n",
       " 'rev_user_compliment_hot',\n",
       " 'rev_user_elite',\n",
       " 'rev_user_fans',\n",
       " 'rev_user_friends',\n",
       " 'avg_tip_num_of_compliment',\n",
       " 'total_tip_num_of_compliment',\n",
       " 'total_tip_row',\n",
       " 'tip_average_stars',\n",
       " 'tip_sum_user_stars',\n",
       " 'tip_user_compliment_cool',\n",
       " 'tip_user_compliment_cute',\n",
       " 'tip_user_compliment_funny',\n",
       " 'tip_user_compliment_hot',\n",
       " 'tip_user_elite',\n",
       " 'tip_user_fans',\n",
       " 'tip_user_friends']"
      ]
     },
     "execution_count": 134,
     "metadata": {},
     "output_type": "execute_result"
    }
   ],
   "source": [
    "df_final_base.schema.names"
   ]
  },
  {
   "cell_type": "code",
   "execution_count": 133,
   "metadata": {
    "application/vnd.databricks.v1+cell": {
     "inputWidgets": {},
     "nuid": "3165accf-e97f-4e2a-b41d-9138a53a0598",
     "showTitle": false,
     "title": ""
    }
   },
   "outputs": [
    {
     "name": "stdout",
     "output_type": "stream",
     "text": [
      "+----------------------+---------------+-----------------------+-----------+---------------------+-------------------------------+---------------------------------+-------------------+-------+-----+-------+----------------+-----+----------------------+--------+---------+-------------+---------+---------+----------------+---------------+------------+-----------------+------------------+------------------------+------------------------+-------------------------+-----------------------+--------------+-------------+----------------+-------------------------+---------------------------+-------------+-----------------+------------------+------------------------+------------------------+-------------------------+-----------------------+--------------+-------------+----------------+\n",
      "|Call_To_Action_enabled|Grubhub_enabled|Request_a_Quote_Enabled|business_id|Covid_Banner_withText|Temporary_Closed_Until_withText|Virtual_Services_Offered_withText|highlights_withText|VSO_dum|label|is_open|biz_review_count|stars|RestaurantsTakeOut_dum|city_dum|state_dum|checkin_count|avg_stars|sum_stars|delivery_mention|takeout_mention|review_count|rev_average_stars|rev_sum_user_stars|rev_user_compliment_cool|rev_user_compliment_cute|rev_user_compliment_funny|rev_user_compliment_hot|rev_user_elite|rev_user_fans|rev_user_friends|avg_tip_num_of_compliment|total_tip_num_of_compliment|total_tip_row|tip_average_stars|tip_sum_user_stars|tip_user_compliment_cool|tip_user_compliment_cute|tip_user_compliment_funny|tip_user_compliment_hot|tip_user_elite|tip_user_fans|tip_user_friends|\n",
      "+----------------------+---------------+-----------------------+-----------+---------------------+-------------------------------+---------------------------------+-------------------+-------+-----+-------+----------------+-----+----------------------+--------+---------+-------------+---------+---------+----------------+---------------+------------+-----------------+------------------+------------------------+------------------------+-------------------------+-----------------------+--------------+-------------+----------------+-------------------------+---------------------------+-------------+-----------------+------------------+------------------------+------------------------+-------------------------+-----------------------+--------------+-------------+----------------+\n",
      "|                     0|              0|                      0|          0|                    0|                              0|                                0|                  0|      0|    0|      0|               0|    0|                     0|       0|        0|            0|        0|        0|               0|              0|           0|                0|                 0|                       0|                       0|                        0|                      0|             0|            0|               0|                        0|                          0|            0|                0|                 0|                       0|                       0|                        0|                      0|             0|            0|               0|\n",
      "+----------------------+---------------+-----------------------+-----------+---------------------+-------------------------------+---------------------------------+-------------------+-------+-----+-------+----------------+-----+----------------------+--------+---------+-------------+---------+---------+----------------+---------------+------------+-----------------+------------------+------------------------+------------------------+-------------------------+-----------------------+--------------+-------------+----------------+-------------------------+---------------------------+-------------+-----------------+------------------+------------------------+------------------------+-------------------------+-----------------------+--------------+-------------+----------------+\n",
      "\n"
     ]
    }
   ],
   "source": [
    "df_final_base.select([count(when(col(c).isNull(), c)).alias(c) for c in df_final_base.columns]).show()"
   ]
  },
  {
   "cell_type": "code",
   "execution_count": 135,
   "metadata": {
    "application/vnd.databricks.v1+cell": {
     "inputWidgets": {},
     "nuid": "723d035e-2c93-460c-b183-0585b84e944c",
     "showTitle": false,
     "title": ""
    }
   },
   "outputs": [],
   "source": [
    "# Classification Method"
   ]
  },
  {
   "cell_type": "code",
   "execution_count": 136,
   "metadata": {
    "application/vnd.databricks.v1+cell": {
     "inputWidgets": {},
     "nuid": "6c5909cc-eacd-4803-9f03-9b356265f907",
     "showTitle": false,
     "title": ""
    }
   },
   "outputs": [],
   "source": [
    "from pyspark.ml.feature import RFormula"
   ]
  },
  {
   "cell_type": "code",
   "execution_count": 138,
   "metadata": {
    "application/vnd.databricks.v1+cell": {
     "inputWidgets": {},
     "nuid": "503808cb-3a6f-4b2b-b2f2-39d371948517",
     "showTitle": false,
     "title": ""
    }
   },
   "outputs": [],
   "source": [
    "# Replace final basetable \n",
    "basetable_final = df_final_base"
   ]
  },
  {
   "cell_type": "code",
   "execution_count": 139,
   "metadata": {
    "application/vnd.databricks.v1+cell": {
     "inputWidgets": {},
     "nuid": "90f3f03c-c035-41dd-a7d6-0be840265793",
     "showTitle": false,
     "title": ""
    }
   },
   "outputs": [
    {
     "name": "stdout",
     "output_type": "stream",
     "text": [
      "+----------------------+---------------+-----------------------+--------------------+---------------------+-------------------------------+---------------------------------+-------------------+-------------+-----+-------+----------------+-----+----------------------+----------------+--------------+-------------+---------+---------+----------------+---------------+------------+-----------------+------------------+------------------------+------------------------+-------------------------+-----------------------+--------------+-------------+----------------+-------------------------+---------------------------+-------------+-----------------+------------------+------------------------+------------------------+-------------------------+-----------------------+--------------+-------------+----------------+\n",
      "|Call_To_Action_enabled|Grubhub_enabled|Request_a_Quote_Enabled|         business_id|Covid_Banner_withText|Temporary_Closed_Until_withText|Virtual_Services_Offered_withText|highlights_withText|      VSO_dum|label|is_open|biz_review_count|stars|RestaurantsTakeOut_dum|        city_dum|     state_dum|checkin_count|avg_stars|sum_stars|delivery_mention|takeout_mention|review_count|rev_average_stars|rev_sum_user_stars|rev_user_compliment_cool|rev_user_compliment_cute|rev_user_compliment_funny|rev_user_compliment_hot|rev_user_elite|rev_user_fans|rev_user_friends|avg_tip_num_of_compliment|total_tip_num_of_compliment|total_tip_row|tip_average_stars|tip_sum_user_stars|tip_user_compliment_cool|tip_user_compliment_cute|tip_user_compliment_funny|tip_user_compliment_hot|tip_user_elite|tip_user_fans|tip_user_friends|\n",
      "+----------------------+---------------+-----------------------+--------------------+---------------------+-------------------------------+---------------------------------+-------------------+-------------+-----+-------+----------------+-----+----------------------+----------------+--------------+-------------+---------+---------+----------------+---------------+------------+-----------------+------------------+------------------------+------------------------+-------------------------+-----------------------+--------------+-------------+----------------+-------------------------+---------------------------+-------------+-----------------+------------------+------------------------+------------------------+-------------------------+-----------------------+--------------+-------------+----------------+\n",
      "|                   1.0|            0.0|                    0.0|-0LPtgJC31FWMrMv3...|                    0|                              0|                                0|                  0|(6,[0],[1.0])|  0.0|      1|               5|  3.0|         (3,[0],[1.0])|(494,[41],[1.0])|(15,[3],[1.0])|            0|      0.0|        0|               0|              0|           0|              0.0|               0.0|                       0|                       0|                        0|                      0|           0.0|            0|             0.0|                      0.0|                          0|            0|              0.0|               0.0|                       0|                       0|                        0|                      0|           0.0|            0|             0.0|\n",
      "|                   0.0|            0.0|                    0.0|-1MVd6ljY2JT6gCKn...|                    0|                              0|                                0|                  0|(6,[0],[1.0])|  0.0|      1|              12|  3.0|         (3,[0],[1.0])| (494,[0],[1.0])|(15,[1],[1.0])|            0|      0.0|        0|               0|              0|           0|              0.0|               0.0|                       0|                       0|                        0|                      0|           0.0|            0|             0.0|                      0.0|                          0|            1|              0.0|               0.0|                       0|                       0|                        0|                      0|           0.0|            0|             0.0|\n",
      "|                   0.0|            0.0|                    0.0|-2AQs-KdwG5QCwGBS...|                    0|                              0|                                0|                  0|(6,[0],[1.0])|  0.0|      1|              36|  2.5|         (3,[0],[1.0])| (494,[5],[1.0])|(15,[7],[1.0])|            0|      1.0|        1|               0|              0|           1|              3.0|               3.0|                       0|                       0|                        0|                      0|           0.0|            0|             0.0|                      0.0|                          0|            0|              0.0|               0.0|                       0|                       0|                        0|                      0|           0.0|            0|             0.0|\n",
      "|                   0.0|            0.0|                    0.0|-2R--HQiUyvN4qld5...|                    0|                              0|                                0|                  0|(6,[0],[1.0])|  1.0|      1|               8|  3.0|         (3,[1],[1.0])| (494,[7],[1.0])|(15,[6],[1.0])|            0|      0.0|        0|               0|              0|           0|              0.0|               0.0|                       0|                       0|                        0|                      0|           0.0|            0|             0.0|                      0.0|                          0|            0|              0.0|               0.0|                       0|                       0|                        0|                      0|           0.0|            0|             0.0|\n",
      "|                   0.0|            0.0|                    0.0|-2ToCaDFpTNmmg3QF...|                    0|                              0|                                0|                  0|(6,[0],[1.0])|  0.0|      1|             451|  1.5|         (3,[0],[1.0])| (494,[0],[1.0])|(15,[1],[1.0])|            0|      0.0|        0|               0|              0|           0|              0.0|               0.0|                       0|                       0|                        0|                      0|           0.0|            0|             0.0|                      0.0|                          0|            0|              0.0|               0.0|                       0|                       0|                        0|                      0|           0.0|            0|             0.0|\n",
      "+----------------------+---------------+-----------------------+--------------------+---------------------+-------------------------------+---------------------------------+-------------------+-------------+-----+-------+----------------+-----+----------------------+----------------+--------------+-------------+---------+---------+----------------+---------------+------------+-----------------+------------------+------------------------+------------------------+-------------------------+-----------------------+--------------+-------------+----------------+-------------------------+---------------------------+-------------+-----------------+------------------+------------------------+------------------------+-------------------------+-----------------------+--------------+-------------+----------------+\n",
      "only showing top 5 rows\n",
      "\n"
     ]
    }
   ],
   "source": [
    "basetable_final.show(5)"
   ]
  },
  {
   "cell_type": "code",
   "execution_count": 140,
   "metadata": {
    "application/vnd.databricks.v1+cell": {
     "inputWidgets": {},
     "nuid": "91e43b37-04f3-415c-8918-b91713944741",
     "showTitle": true,
     "title": "Classification Process"
    }
   },
   "outputs": [],
   "source": [
    "#Create a train and test set with a 70% train, 30% test split\n",
    "basetable_train, basetable_test = basetable_final.randomSplit([0.7, 0.3],seed=123)"
   ]
  },
  {
   "cell_type": "code",
   "execution_count": 141,
   "metadata": {
    "application/vnd.databricks.v1+cell": {
     "inputWidgets": {},
     "nuid": "ac24b651-abbc-4f28-a7c2-3045ec4c53d6",
     "showTitle": false,
     "title": ""
    }
   },
   "outputs": [
    {
     "name": "stdout",
     "output_type": "stream",
     "text": [
      "13244\n",
      "5774\n"
     ]
    }
   ],
   "source": [
    "print(basetable_train.count())\n",
    "print(basetable_test.count())"
   ]
  },
  {
   "cell_type": "code",
   "execution_count": 142,
   "metadata": {
    "application/vnd.databricks.v1+cell": {
     "inputWidgets": {},
     "nuid": "3ea86cc0-0130-4ab5-be31-13a5e2648c53",
     "showTitle": false,
     "title": ""
    }
   },
   "outputs": [],
   "source": [
    "from pyspark.ml.feature import RFormula\n",
    "\n",
    "trainBig = RFormula(formula=\"label ~ . - business_id\").fit(basetable_final).transform(basetable_final)\n",
    "train = RFormula(formula=\"label ~ . - business_id\").fit(basetable_train).transform(basetable_train)\n",
    "test = RFormula(formula=\"label ~ . - business_id\").fit(basetable_test).transform(basetable_test)"
   ]
  },
  {
   "cell_type": "code",
   "execution_count": 143,
   "metadata": {
    "application/vnd.databricks.v1+cell": {
     "inputWidgets": {},
     "nuid": "fc48f243-2973-4bb8-bc24-aa7442ef8acb",
     "showTitle": false,
     "title": ""
    }
   },
   "outputs": [],
   "source": [
    "from pyspark.ml.tuning import CrossValidator, ParamGridBuilder\n",
    "from pyspark.ml.evaluation import BinaryClassificationEvaluator\n",
    "from pyspark.ml.classification import LogisticRegression"
   ]
  },
  {
   "cell_type": "code",
   "execution_count": 144,
   "metadata": {
    "application/vnd.databricks.v1+cell": {
     "inputWidgets": {},
     "nuid": "b00eb0bf-c602-4a27-b919-8189b0bf755f",
     "showTitle": false,
     "title": ""
    }
   },
   "outputs": [],
   "source": [
    "# Logistic Regression without cross validation\n",
    "lr_nocv = LogisticRegression()\n",
    "#Fit the model\n",
    "lrModel_nocv = lr_nocv.fit(train)"
   ]
  },
  {
   "cell_type": "code",
   "execution_count": 146,
   "metadata": {
    "application/vnd.databricks.v1+cell": {
     "inputWidgets": {},
     "nuid": "e39b4151-d2e5-4cf0-a6a2-82d9f47b2f32",
     "showTitle": false,
     "title": ""
    }
   },
   "outputs": [],
   "source": [
    "predictions_lr = lrModel_nocv.transform(test)"
   ]
  },
  {
   "cell_type": "code",
   "execution_count": null,
   "metadata": {
    "application/vnd.databricks.v1+cell": {
     "inputWidgets": {},
     "nuid": "01b7ac80-337d-40c4-8361-f4f3ff9e9aa9",
     "showTitle": false,
     "title": ""
    }
   },
   "outputs": [],
   "source": [
    "# Source: https://spark.apache.org/docs/2.2.0/mllib-evaluation-metrics.html"
   ]
  },
  {
   "cell_type": "code",
   "execution_count": 147,
   "metadata": {},
   "outputs": [],
   "source": [
    "evaluator = BinaryClassificationEvaluator()"
   ]
  },
  {
   "cell_type": "code",
   "execution_count": 148,
   "metadata": {
    "application/vnd.databricks.v1+cell": {
     "inputWidgets": {},
     "nuid": "b4e56033-8449-46c4-88e9-eaad3ea048e8",
     "showTitle": false,
     "title": ""
    }
   },
   "outputs": [
    {
     "name": "stdout",
     "output_type": "stream",
     "text": [
      "Testing set areaUnderROC: 0.9718010525402967\n",
      "Testing set areaUnderPR: 0.9681523645190968\n"
     ]
    }
   ],
   "source": [
    "print(\"Testing set areaUnderROC: \" + str(evaluator.evaluate(predictions_lr, {evaluator.metricName: \"areaUnderROC\"})))\n",
    "print(\"Testing set areaUnderPR: \" + str(evaluator.evaluate(predictions_lr, {evaluator.metricName: \"areaUnderPR\"})))"
   ]
  },
  {
   "cell_type": "code",
   "execution_count": 149,
   "metadata": {},
   "outputs": [],
   "source": [
    "# AUC Result of logistic regression too high, check other methods"
   ]
  },
  {
   "cell_type": "code",
   "execution_count": 150,
   "metadata": {},
   "outputs": [],
   "source": [
    "# Random Forest with no cross validation\n",
    "from pyspark.ml.classification import RandomForestClassifier\n",
    "\n",
    "# Try no CV\n",
    "rf_nocv = RandomForestClassifier(labelCol=\"label\", featuresCol=\"features\", numTrees=500, maxDepth = 5)\n",
    "#Fit the model\n",
    "rfModel_nocv = rf_nocv.fit(train)"
   ]
  },
  {
   "cell_type": "code",
   "execution_count": 151,
   "metadata": {},
   "outputs": [],
   "source": [
    "predictions_rf_nocv = rfModel_nocv.transform(test)"
   ]
  },
  {
   "cell_type": "code",
   "execution_count": 152,
   "metadata": {},
   "outputs": [
    {
     "name": "stdout",
     "output_type": "stream",
     "text": [
      "RF Testing set areaUnderROC: 0.9749023744485281\n",
      "RF Testing set areaUnderPR: 0.9672493057541685\n"
     ]
    }
   ],
   "source": [
    "print(\"RF Testing set areaUnderROC: \" + str(evaluator.evaluate(predictions_rf_nocv, {evaluator.metricName: \"areaUnderROC\"})))\n",
    "print(\"RF Testing set areaUnderPR: \" + str(evaluator.evaluate(predictions_rf_nocv, {evaluator.metricName: \"areaUnderPR\"})))"
   ]
  },
  {
   "cell_type": "code",
   "execution_count": 153,
   "metadata": {},
   "outputs": [],
   "source": [
    "import pandas as pd\n",
    "\n",
    "# Source: https://www.timlrx.com/blog/feature-selection-using-feature-importance-score-creating-a-pyspark-estimator\n",
    "def ExtractFeatureImp(featureImp, dataset, featuresCol):\n",
    "    list_extract = []\n",
    "    for i in dataset.schema[featuresCol].metadata[\"ml_attr\"][\"attrs\"]:\n",
    "        list_extract = list_extract + dataset.schema[featuresCol].metadata[\"ml_attr\"][\"attrs\"][i]\n",
    "    varlist = pd.DataFrame(list_extract)\n",
    "    varlist['score'] = varlist['idx'].apply(lambda x: featureImp[x])\n",
    "    return(varlist.sort_values('score', ascending = False))"
   ]
  },
  {
   "cell_type": "code",
   "execution_count": 155,
   "metadata": {},
   "outputs": [
    {
     "data": {
      "text/html": [
       "<div>\n",
       "<style scoped>\n",
       "    .dataframe tbody tr th:only-of-type {\n",
       "        vertical-align: middle;\n",
       "    }\n",
       "\n",
       "    .dataframe tbody tr th {\n",
       "        vertical-align: top;\n",
       "    }\n",
       "\n",
       "    .dataframe thead th {\n",
       "        text-align: right;\n",
       "    }\n",
       "</style>\n",
       "<table border=\"1\" class=\"dataframe\">\n",
       "  <thead>\n",
       "    <tr style=\"text-align: right;\">\n",
       "      <th></th>\n",
       "      <th>idx</th>\n",
       "      <th>name</th>\n",
       "      <th>score</th>\n",
       "    </tr>\n",
       "  </thead>\n",
       "  <tbody>\n",
       "    <tr>\n",
       "      <th>44</th>\n",
       "      <td>17</td>\n",
       "      <td>RestaurantsTakeOut_dum_True</td>\n",
       "      <td>0.257719</td>\n",
       "    </tr>\n",
       "    <tr>\n",
       "      <th>43</th>\n",
       "      <td>16</td>\n",
       "      <td>RestaurantsTakeOut_dum_Missing</td>\n",
       "      <td>0.233985</td>\n",
       "    </tr>\n",
       "    <tr>\n",
       "      <th>1</th>\n",
       "      <td>1</td>\n",
       "      <td>Grubhub_enabled</td>\n",
       "      <td>0.101916</td>\n",
       "    </tr>\n",
       "    <tr>\n",
       "      <th>8</th>\n",
       "      <td>14</td>\n",
       "      <td>biz_review_count</td>\n",
       "      <td>0.053804</td>\n",
       "    </tr>\n",
       "    <tr>\n",
       "      <th>27</th>\n",
       "      <td>545</td>\n",
       "      <td>total_tip_row</td>\n",
       "      <td>0.030529</td>\n",
       "    </tr>\n",
       "    <tr>\n",
       "      <th>17</th>\n",
       "      <td>535</td>\n",
       "      <td>rev_sum_user_stars</td>\n",
       "      <td>0.024226</td>\n",
       "    </tr>\n",
       "    <tr>\n",
       "      <th>9</th>\n",
       "      <td>15</td>\n",
       "      <td>stars</td>\n",
       "      <td>0.022354</td>\n",
       "    </tr>\n",
       "    <tr>\n",
       "      <th>29</th>\n",
       "      <td>547</td>\n",
       "      <td>tip_sum_user_stars</td>\n",
       "      <td>0.021003</td>\n",
       "    </tr>\n",
       "    <tr>\n",
       "      <th>15</th>\n",
       "      <td>533</td>\n",
       "      <td>review_count</td>\n",
       "      <td>0.020872</td>\n",
       "    </tr>\n",
       "    <tr>\n",
       "      <th>16</th>\n",
       "      <td>534</td>\n",
       "      <td>rev_average_stars</td>\n",
       "      <td>0.019739</td>\n",
       "    </tr>\n",
       "    <tr>\n",
       "      <th>12</th>\n",
       "      <td>530</td>\n",
       "      <td>sum_stars</td>\n",
       "      <td>0.019727</td>\n",
       "    </tr>\n",
       "    <tr>\n",
       "      <th>11</th>\n",
       "      <td>529</td>\n",
       "      <td>avg_stars</td>\n",
       "      <td>0.014406</td>\n",
       "    </tr>\n",
       "    <tr>\n",
       "      <th>35</th>\n",
       "      <td>553</td>\n",
       "      <td>tip_user_fans</td>\n",
       "      <td>0.014256</td>\n",
       "    </tr>\n",
       "    <tr>\n",
       "      <th>23</th>\n",
       "      <td>541</td>\n",
       "      <td>rev_user_fans</td>\n",
       "      <td>0.013010</td>\n",
       "    </tr>\n",
       "    <tr>\n",
       "      <th>20</th>\n",
       "      <td>538</td>\n",
       "      <td>rev_user_compliment_funny</td>\n",
       "      <td>0.011255</td>\n",
       "    </tr>\n",
       "    <tr>\n",
       "      <th>7</th>\n",
       "      <td>13</td>\n",
       "      <td>is_open</td>\n",
       "      <td>0.010793</td>\n",
       "    </tr>\n",
       "    <tr>\n",
       "      <th>28</th>\n",
       "      <td>546</td>\n",
       "      <td>tip_average_stars</td>\n",
       "      <td>0.010681</td>\n",
       "    </tr>\n",
       "    <tr>\n",
       "      <th>18</th>\n",
       "      <td>536</td>\n",
       "      <td>rev_user_compliment_cool</td>\n",
       "      <td>0.008943</td>\n",
       "    </tr>\n",
       "    <tr>\n",
       "      <th>542</th>\n",
       "      <td>515</td>\n",
       "      <td>state_dum_ON</td>\n",
       "      <td>0.007862</td>\n",
       "    </tr>\n",
       "    <tr>\n",
       "      <th>30</th>\n",
       "      <td>548</td>\n",
       "      <td>tip_user_compliment_cool</td>\n",
       "      <td>0.007582</td>\n",
       "    </tr>\n",
       "  </tbody>\n",
       "</table>\n",
       "</div>"
      ],
      "text/plain": [
       "     idx                            name     score\n",
       "44    17     RestaurantsTakeOut_dum_True  0.257719\n",
       "43    16  RestaurantsTakeOut_dum_Missing  0.233985\n",
       "1      1                 Grubhub_enabled  0.101916\n",
       "8     14                biz_review_count  0.053804\n",
       "27   545                   total_tip_row  0.030529\n",
       "17   535              rev_sum_user_stars  0.024226\n",
       "9     15                           stars  0.022354\n",
       "29   547              tip_sum_user_stars  0.021003\n",
       "15   533                    review_count  0.020872\n",
       "16   534               rev_average_stars  0.019739\n",
       "12   530                       sum_stars  0.019727\n",
       "11   529                       avg_stars  0.014406\n",
       "35   553                   tip_user_fans  0.014256\n",
       "23   541                   rev_user_fans  0.013010\n",
       "20   538       rev_user_compliment_funny  0.011255\n",
       "7     13                         is_open  0.010793\n",
       "28   546               tip_average_stars  0.010681\n",
       "18   536        rev_user_compliment_cool  0.008943\n",
       "542  515                    state_dum_ON  0.007862\n",
       "30   548        tip_user_compliment_cool  0.007582"
      ]
     },
     "execution_count": 155,
     "metadata": {},
     "output_type": "execute_result"
    }
   ],
   "source": [
    "ExtractFeatureImp(rfModel_nocv.featureImportances, predictions_rf_nocv, \"features\").head(20)"
   ]
  },
  {
   "cell_type": "code",
   "execution_count": 157,
   "metadata": {},
   "outputs": [],
   "source": [
    "# Random Forest with 10-fold cross validation\n",
    "# Use limited parameters for grid search as this takes time\n",
    "\n",
    "# Define random forest pipeline\n",
    "rfc = RandomForestClassifier()\n",
    "rfPipe = Pipeline().setStages([rfc])\n",
    "\n",
    "rfParams = ParamGridBuilder()\\\n",
    "  .addGrid(rfc.numTrees, [300, 500])\\\n",
    "  .build()\n",
    "\n",
    "rfCv = CrossValidator()\\\n",
    "  .setEstimator(rfPipe)\\\n",
    "  .setEstimatorParamMaps(rfParams)\\\n",
    "  .setEvaluator(BinaryClassificationEvaluator())\\\n",
    "  .setNumFolds(10) \n",
    "\n",
    "rfcModel = rfCv.fit(train)"
   ]
  },
  {
   "cell_type": "code",
   "execution_count": 160,
   "metadata": {},
   "outputs": [
    {
     "name": "stdout",
     "output_type": "stream",
     "text": [
      "Best RF model:\n",
      "** NumTrees: 500\n"
     ]
    }
   ],
   "source": [
    "cvBestPipeline_rf = rfcModel.bestModel\n",
    "cvBestRFModel = cvBestPipeline_rf.stages[-1]._java_obj.parent() #the stages function refers to the stage in the pipelinemodel\n",
    "\n",
    "print(\"Best RF model:\")\n",
    "print(\"** NumTrees: \" + str(cvBestRFModel.getNumTrees()))"
   ]
  },
  {
   "cell_type": "code",
   "execution_count": 162,
   "metadata": {},
   "outputs": [],
   "source": [
    "#Get predictions on the test set\n",
    "preds_rfc = rfcModel.transform(test)"
   ]
  },
  {
   "cell_type": "code",
   "execution_count": 163,
   "metadata": {},
   "outputs": [
    {
     "name": "stdout",
     "output_type": "stream",
     "text": [
      "RF CV Testing set areaUnderROC: 0.97489817404312\n",
      "RF CV Testing set areaUnderPR: 0.9672493057541683\n"
     ]
    }
   ],
   "source": [
    "print(\"RF CV Testing set areaUnderROC: \" + str(evaluator.evaluate(preds_rfc, {evaluator.metricName: \"areaUnderROC\"})))\n",
    "print(\"RF CV Testing set areaUnderPR: \" + str(evaluator.evaluate(preds_rfc, {evaluator.metricName: \"areaUnderPR\"})))"
   ]
  },
  {
   "cell_type": "code",
   "execution_count": 217,
   "metadata": {},
   "outputs": [
    {
     "data": {
      "text/plain": [
       "'RandomForestClassificationModel: uid=RandomForestClassifier_c5b648f8c7db, numTrees=500, numClasses=2, numFeatures=555'"
      ]
     },
     "execution_count": 217,
     "metadata": {},
     "output_type": "execute_result"
    }
   ],
   "source": [
    "str(cvBestPipeline_rf.stages[-1])"
   ]
  },
  {
   "cell_type": "code",
   "execution_count": 189,
   "metadata": {},
   "outputs": [
    {
     "data": {
      "text/html": [
       "<div>\n",
       "<style scoped>\n",
       "    .dataframe tbody tr th:only-of-type {\n",
       "        vertical-align: middle;\n",
       "    }\n",
       "\n",
       "    .dataframe tbody tr th {\n",
       "        vertical-align: top;\n",
       "    }\n",
       "\n",
       "    .dataframe thead th {\n",
       "        text-align: right;\n",
       "    }\n",
       "</style>\n",
       "<table border=\"1\" class=\"dataframe\">\n",
       "  <thead>\n",
       "    <tr style=\"text-align: right;\">\n",
       "      <th></th>\n",
       "      <th>idx</th>\n",
       "      <th>name</th>\n",
       "      <th>score</th>\n",
       "    </tr>\n",
       "  </thead>\n",
       "  <tbody>\n",
       "    <tr>\n",
       "      <th>44</th>\n",
       "      <td>17</td>\n",
       "      <td>RestaurantsTakeOut_dum_True</td>\n",
       "      <td>0.257719</td>\n",
       "    </tr>\n",
       "    <tr>\n",
       "      <th>43</th>\n",
       "      <td>16</td>\n",
       "      <td>RestaurantsTakeOut_dum_Missing</td>\n",
       "      <td>0.233985</td>\n",
       "    </tr>\n",
       "    <tr>\n",
       "      <th>1</th>\n",
       "      <td>1</td>\n",
       "      <td>Grubhub_enabled</td>\n",
       "      <td>0.101916</td>\n",
       "    </tr>\n",
       "    <tr>\n",
       "      <th>8</th>\n",
       "      <td>14</td>\n",
       "      <td>biz_review_count</td>\n",
       "      <td>0.053804</td>\n",
       "    </tr>\n",
       "    <tr>\n",
       "      <th>27</th>\n",
       "      <td>545</td>\n",
       "      <td>total_tip_row</td>\n",
       "      <td>0.030529</td>\n",
       "    </tr>\n",
       "    <tr>\n",
       "      <th>17</th>\n",
       "      <td>535</td>\n",
       "      <td>rev_sum_user_stars</td>\n",
       "      <td>0.024226</td>\n",
       "    </tr>\n",
       "    <tr>\n",
       "      <th>9</th>\n",
       "      <td>15</td>\n",
       "      <td>stars</td>\n",
       "      <td>0.022354</td>\n",
       "    </tr>\n",
       "    <tr>\n",
       "      <th>29</th>\n",
       "      <td>547</td>\n",
       "      <td>tip_sum_user_stars</td>\n",
       "      <td>0.021003</td>\n",
       "    </tr>\n",
       "    <tr>\n",
       "      <th>15</th>\n",
       "      <td>533</td>\n",
       "      <td>review_count</td>\n",
       "      <td>0.020872</td>\n",
       "    </tr>\n",
       "    <tr>\n",
       "      <th>16</th>\n",
       "      <td>534</td>\n",
       "      <td>rev_average_stars</td>\n",
       "      <td>0.019739</td>\n",
       "    </tr>\n",
       "    <tr>\n",
       "      <th>12</th>\n",
       "      <td>530</td>\n",
       "      <td>sum_stars</td>\n",
       "      <td>0.019727</td>\n",
       "    </tr>\n",
       "    <tr>\n",
       "      <th>11</th>\n",
       "      <td>529</td>\n",
       "      <td>avg_stars</td>\n",
       "      <td>0.014406</td>\n",
       "    </tr>\n",
       "    <tr>\n",
       "      <th>35</th>\n",
       "      <td>553</td>\n",
       "      <td>tip_user_fans</td>\n",
       "      <td>0.014256</td>\n",
       "    </tr>\n",
       "    <tr>\n",
       "      <th>23</th>\n",
       "      <td>541</td>\n",
       "      <td>rev_user_fans</td>\n",
       "      <td>0.013010</td>\n",
       "    </tr>\n",
       "    <tr>\n",
       "      <th>20</th>\n",
       "      <td>538</td>\n",
       "      <td>rev_user_compliment_funny</td>\n",
       "      <td>0.011255</td>\n",
       "    </tr>\n",
       "    <tr>\n",
       "      <th>7</th>\n",
       "      <td>13</td>\n",
       "      <td>is_open</td>\n",
       "      <td>0.010793</td>\n",
       "    </tr>\n",
       "    <tr>\n",
       "      <th>28</th>\n",
       "      <td>546</td>\n",
       "      <td>tip_average_stars</td>\n",
       "      <td>0.010681</td>\n",
       "    </tr>\n",
       "    <tr>\n",
       "      <th>18</th>\n",
       "      <td>536</td>\n",
       "      <td>rev_user_compliment_cool</td>\n",
       "      <td>0.008943</td>\n",
       "    </tr>\n",
       "    <tr>\n",
       "      <th>542</th>\n",
       "      <td>515</td>\n",
       "      <td>state_dum_ON</td>\n",
       "      <td>0.007862</td>\n",
       "    </tr>\n",
       "    <tr>\n",
       "      <th>30</th>\n",
       "      <td>548</td>\n",
       "      <td>tip_user_compliment_cool</td>\n",
       "      <td>0.007582</td>\n",
       "    </tr>\n",
       "  </tbody>\n",
       "</table>\n",
       "</div>"
      ],
      "text/plain": [
       "     idx                            name     score\n",
       "44    17     RestaurantsTakeOut_dum_True  0.257719\n",
       "43    16  RestaurantsTakeOut_dum_Missing  0.233985\n",
       "1      1                 Grubhub_enabled  0.101916\n",
       "8     14                biz_review_count  0.053804\n",
       "27   545                   total_tip_row  0.030529\n",
       "17   535              rev_sum_user_stars  0.024226\n",
       "9     15                           stars  0.022354\n",
       "29   547              tip_sum_user_stars  0.021003\n",
       "15   533                    review_count  0.020872\n",
       "16   534               rev_average_stars  0.019739\n",
       "12   530                       sum_stars  0.019727\n",
       "11   529                       avg_stars  0.014406\n",
       "35   553                   tip_user_fans  0.014256\n",
       "23   541                   rev_user_fans  0.013010\n",
       "20   538       rev_user_compliment_funny  0.011255\n",
       "7     13                         is_open  0.010793\n",
       "28   546               tip_average_stars  0.010681\n",
       "18   536        rev_user_compliment_cool  0.008943\n",
       "542  515                    state_dum_ON  0.007862\n",
       "30   548        tip_user_compliment_cool  0.007582"
      ]
     },
     "execution_count": 189,
     "metadata": {},
     "output_type": "execute_result"
    }
   ],
   "source": [
    "# List down important features from random forest\n",
    "ExtractFeatureImp(cvBestPipeline_rf.stages[-1].featureImportances, preds_rfc, \"features\").head(20)"
   ]
  },
  {
   "cell_type": "code",
   "execution_count": 167,
   "metadata": {},
   "outputs": [],
   "source": [
    "from pyspark.mllib.evaluation import BinaryClassificationMetrics\n",
    "\n",
    "# For plotting, Source: https://stackoverflow.com/questions/52847408/pyspark-extract-roc-curve\n",
    "# Python: https://spark.apache.org/docs/latest/api/python/_modules/pyspark/mllib/common.html\n",
    "# Scala: https://spark.apache.org/docs/latest/api/java/org/apache/spark/mllib/evaluation/BinaryClassificationMetrics.html\n",
    "class CurveMetrics(BinaryClassificationMetrics):\n",
    "    def __init__(self, *args):\n",
    "        super(CurveMetrics, self).__init__(*args)\n",
    "\n",
    "    def _to_list(self, rdd):\n",
    "        points = []\n",
    "        # Note this collect could be inefficient for large datasets \n",
    "        # considering there may be one probability per datapoint (at most)\n",
    "        # The Scala version takes a numBins parameter, \n",
    "        # but it doesn't seem possible to pass this from Python to Java\n",
    "        for row in rdd.collect():\n",
    "            # Results are returned as type scala.Tuple2, \n",
    "            # which doesn't appear to have a py4j mapping\n",
    "            points += [(float(row._1()), float(row._2()))]\n",
    "        return points\n",
    "\n",
    "    def get_curve(self, method):\n",
    "        rdd = getattr(self._java_model, method)().toJavaRDD()\n",
    "        return self._to_list(rdd)"
   ]
  },
  {
   "cell_type": "code",
   "execution_count": 168,
   "metadata": {},
   "outputs": [],
   "source": [
    "# Returns as a list (false positive rate, true positive rate)\n",
    "preds_rfc_for_plot = preds_rfc.select('label','probability').rdd.map(lambda row: (float(row['probability'][1]), float(row['label'])))\n",
    "points_rfc = CurveMetrics(preds_rfc_for_plot).get_curve('roc')"
   ]
  },
  {
   "cell_type": "code",
   "execution_count": 173,
   "metadata": {},
   "outputs": [
    {
     "data": {
      "text/plain": [
       "<matplotlib.legend.Legend at 0x7fe14ad218b0>"
      ]
     },
     "execution_count": 173,
     "metadata": {},
     "output_type": "execute_result"
    },
    {
     "data": {
      "image/png": "[encoded data removed]",
      "text/plain": [
       "<Figure size 432x288 with 1 Axes>"
      ]
     },
     "metadata": {
      "needs_background": "light"
     },
     "output_type": "display_data"
    }
   ],
   "source": [
    "import matplotlib.pyplot as plt\n",
    "import numpy as np\n",
    "\n",
    "trainingSummary = cvBestPipeline_rf.stages[-1].summary\n",
    "roc = trainingSummary.roc.toPandas()\n",
    "\n",
    "plt.figure()\n",
    "x_val = [x[0] for x in points_rfc]\n",
    "y_val = [x[1] for x in points_rfc]\n",
    "plt.ylabel('False Positive Rate')\n",
    "plt.xlabel('True Positive Rate')\n",
    "plt.title('Random Forest: ROC Curve')\n",
    "plt.plot(roc['FPR'],roc['TPR'], label='Train', color='red')\n",
    "plt.plot(x_val, y_val, label = 'Test', color='blue')\n",
    "plt.plot([0, 1], [0, 1],'r--',color='grey')\n",
    "plt.legend(loc=4)"
   ]
  },
  {
   "cell_type": "code",
   "execution_count": 177,
   "metadata": {},
   "outputs": [
    {
     "name": "stdout",
     "output_type": "stream",
     "text": [
      "RF CV acc: 0.9695185313474195\n",
      "RF CV f1: 0.9691809470024564\n",
      "RF CV weightedPrecision: 0.9704138601753767\n",
      "RF CV weightedRecall: 0.9695185313474195\n"
     ]
    }
   ],
   "source": [
    "# Calculate other metrics in addition to AUC\n",
    "from pyspark.ml.evaluation import MulticlassClassificationEvaluator\n",
    "\n",
    "# Create Evaluator\n",
    "evaluatorMulti = MulticlassClassificationEvaluator(labelCol=\"label\", predictionCol=\"prediction\")\n",
    "\n",
    "# Get results from the prediction on the test set\n",
    "predictionAndTarget = preds_rfc.select(\"label\", \"prediction\")\n",
    "\n",
    "# Get metrics\n",
    "acc = evaluatorMulti.evaluate(predictionAndTarget, {evaluatorMulti.metricName: \"accuracy\"})\n",
    "f1 = evaluatorMulti.evaluate(predictionAndTarget, {evaluatorMulti.metricName: \"f1\"})\n",
    "weightedPrecision = evaluatorMulti.evaluate(predictionAndTarget, {evaluatorMulti.metricName: \"weightedPrecision\"})\n",
    "weightedRecall = evaluatorMulti.evaluate(predictionAndTarget, {evaluatorMulti.metricName: \"weightedRecall\"})\n",
    "\n",
    "print(\"RF CV acc: \" + str(acc))\n",
    "print(\"RF CV f1: \" + str(f1))\n",
    "print(\"RF CV weightedPrecision: \" + str(weightedPrecision))\n",
    "print(\"RF CV weightedRecall: \" + str(weightedRecall))"
   ]
  },
  {
   "cell_type": "code",
   "execution_count": 181,
   "metadata": {},
   "outputs": [
    {
     "name": "stdout",
     "output_type": "stream",
     "text": [
      "RF CV Confusion Matrix: \n",
      "[[3852.  164.]\n",
      " [  12. 1746.]]\n"
     ]
    }
   ],
   "source": [
    "# Confusion Matrix\n",
    "from pyspark.mllib.evaluation import MulticlassMetrics\n",
    "\n",
    "metrics = MulticlassMetrics(predictionAndTarget.rdd.map(tuple))\n",
    "\n",
    "print(\"RF CV Confusion Matrix: \")\n",
    "print(metrics.confusionMatrix().toArray())"
   ]
  },
  {
   "cell_type": "code",
   "execution_count": null,
   "metadata": {},
   "outputs": [],
   "source": []
  },
  {
   "cell_type": "code",
   "execution_count": 158,
   "metadata": {},
   "outputs": [],
   "source": [
    "# Logistic Regresssion with 10-fold cross validation\n",
    "# Use limited parameters for grid search as this takes time\n",
    "\n",
    "lr = LogisticRegression()\n",
    "pipeline = Pipeline().setStages([lr])\n",
    "\n",
    "params = ParamGridBuilder()\\\n",
    "  .addGrid(lr.maxIter, [50, 100])\\\n",
    "  .build()\n",
    "\n",
    "cv_lr = CrossValidator()\\\n",
    "  .setEstimator(pipeline)\\\n",
    "  .setEstimatorParamMaps(params)\\\n",
    "  .setEvaluator(evaluator)\\\n",
    "  .setNumFolds(10)\n",
    "\n",
    "cvModel_lr = cv_lr.fit(train)"
   ]
  },
  {
   "cell_type": "code",
   "execution_count": 174,
   "metadata": {},
   "outputs": [
    {
     "name": "stdout",
     "output_type": "stream",
     "text": [
      "Best LR model:\n",
      "** MaxIter: 50\n"
     ]
    }
   ],
   "source": [
    "cvBestPipeline_lr = cvModel_lr.bestModel\n",
    "cvBestLRModel = cvBestPipeline_lr.stages[-1]._java_obj.parent() #the stages function refers to the stage in the pipelinemodel\n",
    "\n",
    "print(\"Best LR model:\")\n",
    "print(\"** MaxIter: \" + str(cvBestLRModel.getMaxIter()))"
   ]
  },
  {
   "cell_type": "code",
   "execution_count": 182,
   "metadata": {},
   "outputs": [],
   "source": [
    "#Get predictions on the test set\n",
    "preds_lr = cvModel_lr.transform(test)"
   ]
  },
  {
   "cell_type": "code",
   "execution_count": 183,
   "metadata": {},
   "outputs": [
    {
     "name": "stdout",
     "output_type": "stream",
     "text": [
      "LR CV Testing set areaUnderROC: 0.9745985902897469\n",
      "LR CV Testing set areaUnderPR: 0.9714269353482489\n"
     ]
    }
   ],
   "source": [
    "print(\"LR CV Testing set areaUnderROC: \" + str(evaluator.evaluate(preds_lr, {evaluator.metricName: \"areaUnderROC\"})))\n",
    "print(\"LR CV Testing set areaUnderPR: \" + str(evaluator.evaluate(preds_lr, {evaluator.metricName: \"areaUnderPR\"})))"
   ]
  },
  {
   "cell_type": "code",
   "execution_count": 184,
   "metadata": {},
   "outputs": [],
   "source": [
    "# Returns as a list (false positive rate, true positive rate)\n",
    "preds_lr_for_plot = preds_lr.select('label','probability').rdd.map(lambda row: (float(row['probability'][1]), float(row['label'])))\n",
    "points_lr = CurveMetrics(preds_lr_for_plot).get_curve('roc')"
   ]
  },
  {
   "cell_type": "code",
   "execution_count": 206,
   "metadata": {},
   "outputs": [
    {
     "data": {
      "text/plain": [
       "[LogisticRegressionModel: uid=LogisticRegression_0c6369289de1, numClasses=2, numFeatures=555]"
      ]
     },
     "execution_count": 206,
     "metadata": {},
     "output_type": "execute_result"
    }
   ],
   "source": [
    "cvBestPipeline_lr.stages"
   ]
  },
  {
   "cell_type": "code",
   "execution_count": 185,
   "metadata": {},
   "outputs": [
    {
     "data": {
      "text/plain": [
       "<matplotlib.legend.Legend at 0x7fe14acc9fa0>"
      ]
     },
     "execution_count": 185,
     "metadata": {},
     "output_type": "execute_result"
    },
    {
     "data": {
      "image/png": "[encoded data removed]",
      "text/plain": [
       "<Figure size 432x288 with 1 Axes>"
      ]
     },
     "metadata": {
      "needs_background": "light"
     },
     "output_type": "display_data"
    }
   ],
   "source": [
    "trainingSummary = cvBestPipeline_lr.stages[-1].summary\n",
    "roc = trainingSummary.roc.toPandas()\n",
    "\n",
    "plt.figure()\n",
    "x_val = [x[0] for x in points_lr]\n",
    "y_val = [x[1] for x in points_lr]\n",
    "plt.ylabel('False Positive Rate')\n",
    "plt.xlabel('True Positive Rate')\n",
    "plt.title('Logistic Regression: ROC Curve')\n",
    "plt.plot(roc['FPR'],roc['TPR'], label='Train', color='red')\n",
    "plt.plot(x_val, y_val, label = 'Test', color='blue')\n",
    "plt.plot([0, 1], [0, 1],'r--',color='grey')\n",
    "plt.legend(loc=4)"
   ]
  },
  {
   "cell_type": "code",
   "execution_count": 186,
   "metadata": {},
   "outputs": [
    {
     "name": "stdout",
     "output_type": "stream",
     "text": [
      "LR CV acc: 0.9669206789054382\n",
      "LR CV f1: 0.9666244202483707\n",
      "LR CV weightedPrecision: 0.9673779340488506\n",
      "LR CV weightedRecall: 0.9669206789054381\n"
     ]
    }
   ],
   "source": [
    "# Get results from the prediction on the test set\n",
    "predictionAndTarget = preds_lr.select(\"label\", \"prediction\")\n",
    "\n",
    "# Get metrics\n",
    "acc = evaluatorMulti.evaluate(predictionAndTarget, {evaluatorMulti.metricName: \"accuracy\"})\n",
    "f1 = evaluatorMulti.evaluate(predictionAndTarget, {evaluatorMulti.metricName: \"f1\"})\n",
    "weightedPrecision = evaluatorMulti.evaluate(predictionAndTarget, {evaluatorMulti.metricName: \"weightedPrecision\"})\n",
    "weightedRecall = evaluatorMulti.evaluate(predictionAndTarget, {evaluatorMulti.metricName: \"weightedRecall\"})\n",
    "\n",
    "print(\"LR CV acc: \" + str(acc))\n",
    "print(\"LR CV f1: \" + str(f1))\n",
    "print(\"LR CV weightedPrecision: \" + str(weightedPrecision))\n",
    "print(\"LR CV weightedRecall: \" + str(weightedRecall))"
   ]
  },
  {
   "cell_type": "code",
   "execution_count": 187,
   "metadata": {},
   "outputs": [
    {
     "name": "stdout",
     "output_type": "stream",
     "text": [
      "LR CV Confusion Matrix: \n",
      "[[3831.  158.]\n",
      " [  33. 1752.]]\n"
     ]
    }
   ],
   "source": [
    "metrics = MulticlassMetrics(predictionAndTarget.rdd.map(tuple))\n",
    "\n",
    "print(\"LR CV Confusion Matrix: \")\n",
    "print(metrics.confusionMatrix().toArray())"
   ]
  },
  {
   "cell_type": "code",
   "execution_count": null,
   "metadata": {},
   "outputs": [],
   "source": []
  },
  {
   "cell_type": "code",
   "execution_count": 159,
   "metadata": {},
   "outputs": [],
   "source": [
    "# Gradient Boosting with 10-fold cross validation\n",
    "# Use limited parameters for grid search as this takes time\n",
    "\n",
    "from pyspark.ml.classification import GBTClassifier\n",
    "\n",
    "#Define pipeline\n",
    "gb = GBTClassifier()\n",
    "gb_pipeline = Pipeline().setStages([gb])\n",
    "\n",
    "gbParams = ParamGridBuilder()\\\n",
    "  .addGrid(gb.maxDepth, [5, 10])\\\n",
    "  .build()\n",
    "\n",
    "gbCv = CrossValidator()\\\n",
    "  .setEstimator(gb_pipeline)\\\n",
    "  .setEstimatorParamMaps(gbParams)\\\n",
    "  .setEvaluator(BinaryClassificationEvaluator())\\\n",
    "  .setNumFolds(10) \n",
    "\n",
    "gbModel = gbCv.fit(train)"
   ]
  },
  {
   "cell_type": "code",
   "execution_count": 190,
   "metadata": {},
   "outputs": [
    {
     "name": "stdout",
     "output_type": "stream",
     "text": [
      "Best GB model:\n",
      "** MaxDepth: 10\n"
     ]
    }
   ],
   "source": [
    "cvBestPipeline_gb = gbModel.bestModel\n",
    "cvBestGBModel = cvBestPipeline_gb.stages[-1]._java_obj.parent() #the stages function refers to the stage in the pipelinemodel\n",
    "\n",
    "print(\"Best GB model:\")\n",
    "print(\"** MaxDepth: \" + str(cvBestGBModel.getMaxDepth()))"
   ]
  },
  {
   "cell_type": "code",
   "execution_count": 191,
   "metadata": {},
   "outputs": [],
   "source": [
    "#Get predictions on the test set\n",
    "preds_gb = gbModel.transform(test)"
   ]
  },
  {
   "cell_type": "code",
   "execution_count": 192,
   "metadata": {},
   "outputs": [
    {
     "name": "stdout",
     "output_type": "stream",
     "text": [
      "GB CV Testing set areaUnderROC: 0.9793364443432723\n",
      "GB CV Testing set areaUnderPR: 0.9744318794469241\n"
     ]
    }
   ],
   "source": [
    "print(\"GB CV Testing set areaUnderROC: \" + str(evaluator.evaluate(preds_gb, {evaluator.metricName: \"areaUnderROC\"})))\n",
    "print(\"GB CV Testing set areaUnderPR: \" + str(evaluator.evaluate(preds_gb, {evaluator.metricName: \"areaUnderPR\"})))"
   ]
  },
  {
   "cell_type": "code",
   "execution_count": 200,
   "metadata": {},
   "outputs": [
    {
     "data": {
      "text/html": [
       "<div>\n",
       "<style scoped>\n",
       "    .dataframe tbody tr th:only-of-type {\n",
       "        vertical-align: middle;\n",
       "    }\n",
       "\n",
       "    .dataframe tbody tr th {\n",
       "        vertical-align: top;\n",
       "    }\n",
       "\n",
       "    .dataframe thead th {\n",
       "        text-align: right;\n",
       "    }\n",
       "</style>\n",
       "<table border=\"1\" class=\"dataframe\">\n",
       "  <thead>\n",
       "    <tr style=\"text-align: right;\">\n",
       "      <th></th>\n",
       "      <th>idx</th>\n",
       "      <th>name</th>\n",
       "      <th>score</th>\n",
       "    </tr>\n",
       "  </thead>\n",
       "  <tbody>\n",
       "    <tr>\n",
       "      <th>44</th>\n",
       "      <td>17</td>\n",
       "      <td>RestaurantsTakeOut_dum_True</td>\n",
       "      <td>0.819524</td>\n",
       "    </tr>\n",
       "    <tr>\n",
       "      <th>8</th>\n",
       "      <td>14</td>\n",
       "      <td>biz_review_count</td>\n",
       "      <td>0.035904</td>\n",
       "    </tr>\n",
       "    <tr>\n",
       "      <th>9</th>\n",
       "      <td>15</td>\n",
       "      <td>stars</td>\n",
       "      <td>0.018966</td>\n",
       "    </tr>\n",
       "    <tr>\n",
       "      <th>6</th>\n",
       "      <td>6</td>\n",
       "      <td>highlights_withText</td>\n",
       "      <td>0.008859</td>\n",
       "    </tr>\n",
       "    <tr>\n",
       "      <th>0</th>\n",
       "      <td>0</td>\n",
       "      <td>Call_To_Action_enabled</td>\n",
       "      <td>0.008158</td>\n",
       "    </tr>\n",
       "    <tr>\n",
       "      <th>43</th>\n",
       "      <td>16</td>\n",
       "      <td>RestaurantsTakeOut_dum_Missing</td>\n",
       "      <td>0.006313</td>\n",
       "    </tr>\n",
       "    <tr>\n",
       "      <th>27</th>\n",
       "      <td>545</td>\n",
       "      <td>total_tip_row</td>\n",
       "      <td>0.004378</td>\n",
       "    </tr>\n",
       "    <tr>\n",
       "      <th>1</th>\n",
       "      <td>1</td>\n",
       "      <td>Grubhub_enabled</td>\n",
       "      <td>0.004204</td>\n",
       "    </tr>\n",
       "    <tr>\n",
       "      <th>11</th>\n",
       "      <td>529</td>\n",
       "      <td>avg_stars</td>\n",
       "      <td>0.003784</td>\n",
       "    </tr>\n",
       "    <tr>\n",
       "      <th>7</th>\n",
       "      <td>13</td>\n",
       "      <td>is_open</td>\n",
       "      <td>0.003218</td>\n",
       "    </tr>\n",
       "    <tr>\n",
       "      <th>12</th>\n",
       "      <td>530</td>\n",
       "      <td>sum_stars</td>\n",
       "      <td>0.003080</td>\n",
       "    </tr>\n",
       "    <tr>\n",
       "      <th>3</th>\n",
       "      <td>3</td>\n",
       "      <td>Covid_Banner_withText</td>\n",
       "      <td>0.002714</td>\n",
       "    </tr>\n",
       "    <tr>\n",
       "      <th>49</th>\n",
       "      <td>22</td>\n",
       "      <td>city_dum_Charlotte</td>\n",
       "      <td>0.002654</td>\n",
       "    </tr>\n",
       "    <tr>\n",
       "      <th>23</th>\n",
       "      <td>541</td>\n",
       "      <td>rev_user_fans</td>\n",
       "      <td>0.002492</td>\n",
       "    </tr>\n",
       "    <tr>\n",
       "      <th>51</th>\n",
       "      <td>24</td>\n",
       "      <td>city_dum_Calgary</td>\n",
       "      <td>0.002399</td>\n",
       "    </tr>\n",
       "    <tr>\n",
       "      <th>2</th>\n",
       "      <td>2</td>\n",
       "      <td>Request_a_Quote_Enabled</td>\n",
       "      <td>0.002386</td>\n",
       "    </tr>\n",
       "    <tr>\n",
       "      <th>48</th>\n",
       "      <td>21</td>\n",
       "      <td>city_dum_Phoenix</td>\n",
       "      <td>0.002034</td>\n",
       "    </tr>\n",
       "    <tr>\n",
       "      <th>18</th>\n",
       "      <td>536</td>\n",
       "      <td>rev_user_compliment_cool</td>\n",
       "      <td>0.001915</td>\n",
       "    </tr>\n",
       "    <tr>\n",
       "      <th>59</th>\n",
       "      <td>32</td>\n",
       "      <td>city_dum_Madison</td>\n",
       "      <td>0.001860</td>\n",
       "    </tr>\n",
       "    <tr>\n",
       "      <th>101</th>\n",
       "      <td>74</td>\n",
       "      <td>city_dum_Thornhill</td>\n",
       "      <td>0.001831</td>\n",
       "    </tr>\n",
       "  </tbody>\n",
       "</table>\n",
       "</div>"
      ],
      "text/plain": [
       "     idx                            name     score\n",
       "44    17     RestaurantsTakeOut_dum_True  0.819524\n",
       "8     14                biz_review_count  0.035904\n",
       "9     15                           stars  0.018966\n",
       "6      6             highlights_withText  0.008859\n",
       "0      0          Call_To_Action_enabled  0.008158\n",
       "43    16  RestaurantsTakeOut_dum_Missing  0.006313\n",
       "27   545                   total_tip_row  0.004378\n",
       "1      1                 Grubhub_enabled  0.004204\n",
       "11   529                       avg_stars  0.003784\n",
       "7     13                         is_open  0.003218\n",
       "12   530                       sum_stars  0.003080\n",
       "3      3           Covid_Banner_withText  0.002714\n",
       "49    22              city_dum_Charlotte  0.002654\n",
       "23   541                   rev_user_fans  0.002492\n",
       "51    24                city_dum_Calgary  0.002399\n",
       "2      2         Request_a_Quote_Enabled  0.002386\n",
       "48    21                city_dum_Phoenix  0.002034\n",
       "18   536        rev_user_compliment_cool  0.001915\n",
       "59    32                city_dum_Madison  0.001860\n",
       "101   74              city_dum_Thornhill  0.001831"
      ]
     },
     "execution_count": 200,
     "metadata": {},
     "output_type": "execute_result"
    }
   ],
   "source": [
    "ExtractFeatureImp(cvBestPipeline_gb.stages[-1].featureImportances, preds_gb, \"features\").head(20)"
   ]
  },
  {
   "cell_type": "code",
   "execution_count": 222,
   "metadata": {},
   "outputs": [
    {
     "name": "stdout",
     "output_type": "stream",
     "text": [
      "GB CV acc: 0.9667474887426394\n",
      "GB CV f1: 0.9665129410680298\n",
      "GB CV weightedPrecision: 0.9669452220074346\n",
      "GB CV weightedRecall: 0.9667474887426395\n"
     ]
    }
   ],
   "source": [
    "# Get results from the prediction on the test set\n",
    "predictionAndTarget = preds_gb.select(\"label\", \"prediction\")\n",
    "\n",
    "# Get metrics\n",
    "acc = evaluatorMulti.evaluate(predictionAndTarget, {evaluatorMulti.metricName: \"accuracy\"})\n",
    "f1 = evaluatorMulti.evaluate(predictionAndTarget, {evaluatorMulti.metricName: \"f1\"})\n",
    "weightedPrecision = evaluatorMulti.evaluate(predictionAndTarget, {evaluatorMulti.metricName: \"weightedPrecision\"})\n",
    "weightedRecall = evaluatorMulti.evaluate(predictionAndTarget, {evaluatorMulti.metricName: \"weightedRecall\"})\n",
    "\n",
    "print(\"GB CV acc: \" + str(acc))\n",
    "print(\"GB CV f1: \" + str(f1))\n",
    "print(\"GB CV weightedPrecision: \" + str(weightedPrecision))\n",
    "print(\"GB CV weightedRecall: \" + str(weightedRecall))"
   ]
  },
  {
   "cell_type": "code",
   "execution_count": 221,
   "metadata": {},
   "outputs": [
    {
     "name": "stdout",
     "output_type": "stream",
     "text": [
      "GB CV Confusion Matrix: \n",
      "[[3818.  146.]\n",
      " [  46. 1764.]]\n"
     ]
    }
   ],
   "source": [
    "metrics = MulticlassMetrics(predictionAndTarget.rdd.map(tuple))\n",
    "\n",
    "print(\"GB CV Confusion Matrix: \")\n",
    "print(metrics.confusionMatrix().toArray())"
   ]
  },
  {
   "cell_type": "code",
   "execution_count": null,
   "metadata": {},
   "outputs": [],
   "source": []
  },
  {
   "cell_type": "code",
   "execution_count": null,
   "metadata": {},
   "outputs": [],
   "source": []
  },
  {
   "cell_type": "code",
   "execution_count": null,
   "metadata": {},
   "outputs": [],
   "source": []
  },
  {
   "cell_type": "code",
   "execution_count": null,
   "metadata": {},
   "outputs": [],
   "source": []
  },
  {
   "cell_type": "code",
   "execution_count": null,
   "metadata": {},
   "outputs": [],
   "source": [
    "# ---------------- End -----------------------------"
   ]
  }
 ],
 "metadata": {
  "application/vnd.databricks.v1+notebook": {
   "dashboards": [],
   "language": "python",
   "notebookMetadata": {
    "experimentId": "4350408671056313",
    "pythonIndentUnit": 2
   },
   "notebookName": "JL BDT Group Project",
   "notebookOrigID": 4350408671056313,
   "widgets": {}
  },
  "kernelspec": {
   "display_name": "Python 3",
   "language": "python",
   "name": "python3"
  },
  "language_info": {
   "codemirror_mode": {
    "name": "ipython",
    "version": 3
   },
   "file_extension": ".py",
   "mimetype": "text/x-python",
   "name": "python",
   "nbconvert_exporter": "python",
   "pygments_lexer": "ipython3",
   "version": "3.8.5"
  }
 },
 "nbformat": 4,
 "nbformat_minor": 1
}
